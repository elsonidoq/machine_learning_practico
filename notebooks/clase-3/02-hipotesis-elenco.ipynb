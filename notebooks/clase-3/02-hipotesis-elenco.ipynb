{
 "cells": [
  {
   "cell_type": "markdown",
   "metadata": {},
   "source": [
    "# Boilerplate"
   ]
  },
  {
   "cell_type": "code",
   "execution_count": null,
   "metadata": {},
   "outputs": [],
   "source": [
    "from google.colab import drive\n",
    "\n",
    "drive.mount('/content/gdrive')"
   ]
  },
  {
   "cell_type": "code",
   "execution_count": null,
   "metadata": {},
   "outputs": [],
   "source": [
    "# Si hay cambios en el repositorio, con esta linea actualizas tu drive\n",
    "!cd /content/gdrive/My\\ Drive/ml-practico/code; git pull"
   ]
  },
  {
   "cell_type": "code",
   "execution_count": null,
   "metadata": {},
   "outputs": [],
   "source": [
    "import sys\n",
    "sys.path.append('/content/gdrive/My Drive/ml-practico/code')"
   ]
  },
  {
   "cell_type": "code",
   "execution_count": 1,
   "metadata": {},
   "outputs": [],
   "source": [
    "import sys\n",
    "# Para trabajar local\n",
    "sys.path.append('/Users/przivic/prog/machine_learning_practico')"
   ]
  },
  {
   "cell_type": "code",
   "execution_count": 2,
   "metadata": {},
   "outputs": [
    {
     "name": "stderr",
     "output_type": "stream",
     "text": [
      "/Users/przivic/anaconda3/lib/python3.8/site-packages/IPython/core/interactiveshell.py:3263: DtypeWarning: Columns (5) have mixed types. Specify dtype option on import or set low_memory=False.\n",
      "  if (await self.run_code(code, result,  async_=asy)):\n"
     ]
    }
   ],
   "source": [
    "from lib import data\n",
    "from pathlib import Path\n",
    "import pandas as pd\n",
    "\n",
    "PATH = Path('../../data/')\n",
    "ratings_df = data.load_title_ratings(PATH)\n",
    "basics_df = data.load_title_basics(PATH)\n",
    "principals_df = pd.read_csv(PATH / 'title.principals.tsv', sep='\\t')"
   ]
  },
  {
   "cell_type": "markdown",
   "metadata": {},
   "source": [
    "# Recordemos como era la data"
   ]
  },
  {
   "cell_type": "code",
   "execution_count": 3,
   "metadata": {},
   "outputs": [
    {
     "data": {
      "text/html": [
       "<div>\n",
       "<style scoped>\n",
       "    .dataframe tbody tr th:only-of-type {\n",
       "        vertical-align: middle;\n",
       "    }\n",
       "\n",
       "    .dataframe tbody tr th {\n",
       "        vertical-align: top;\n",
       "    }\n",
       "\n",
       "    .dataframe thead th {\n",
       "        text-align: right;\n",
       "    }\n",
       "</style>\n",
       "<table border=\"1\" class=\"dataframe\">\n",
       "  <thead>\n",
       "    <tr style=\"text-align: right;\">\n",
       "      <th></th>\n",
       "      <th>tconst</th>\n",
       "      <th>ordering</th>\n",
       "      <th>nconst</th>\n",
       "      <th>category</th>\n",
       "      <th>job</th>\n",
       "      <th>characters</th>\n",
       "    </tr>\n",
       "  </thead>\n",
       "  <tbody>\n",
       "    <tr>\n",
       "      <th>0</th>\n",
       "      <td>tt0000001</td>\n",
       "      <td>1</td>\n",
       "      <td>nm1588970</td>\n",
       "      <td>self</td>\n",
       "      <td>\\N</td>\n",
       "      <td>[\"Self\"]</td>\n",
       "    </tr>\n",
       "    <tr>\n",
       "      <th>1</th>\n",
       "      <td>tt0000001</td>\n",
       "      <td>2</td>\n",
       "      <td>nm0005690</td>\n",
       "      <td>director</td>\n",
       "      <td>\\N</td>\n",
       "      <td>\\N</td>\n",
       "    </tr>\n",
       "    <tr>\n",
       "      <th>2</th>\n",
       "      <td>tt0000001</td>\n",
       "      <td>3</td>\n",
       "      <td>nm0374658</td>\n",
       "      <td>cinematographer</td>\n",
       "      <td>director of photography</td>\n",
       "      <td>\\N</td>\n",
       "    </tr>\n",
       "    <tr>\n",
       "      <th>3</th>\n",
       "      <td>tt0000002</td>\n",
       "      <td>1</td>\n",
       "      <td>nm0721526</td>\n",
       "      <td>director</td>\n",
       "      <td>\\N</td>\n",
       "      <td>\\N</td>\n",
       "    </tr>\n",
       "    <tr>\n",
       "      <th>4</th>\n",
       "      <td>tt0000002</td>\n",
       "      <td>2</td>\n",
       "      <td>nm1335271</td>\n",
       "      <td>composer</td>\n",
       "      <td>\\N</td>\n",
       "      <td>\\N</td>\n",
       "    </tr>\n",
       "  </tbody>\n",
       "</table>\n",
       "</div>"
      ],
      "text/plain": [
       "      tconst  ordering     nconst         category                      job  \\\n",
       "0  tt0000001         1  nm1588970             self                       \\N   \n",
       "1  tt0000001         2  nm0005690         director                       \\N   \n",
       "2  tt0000001         3  nm0374658  cinematographer  director of photography   \n",
       "3  tt0000002         1  nm0721526         director                       \\N   \n",
       "4  tt0000002         2  nm1335271         composer                       \\N   \n",
       "\n",
       "  characters  \n",
       "0   [\"Self\"]  \n",
       "1         \\N  \n",
       "2         \\N  \n",
       "3         \\N  \n",
       "4         \\N  "
      ]
     },
     "execution_count": 3,
     "metadata": {},
     "output_type": "execute_result"
    }
   ],
   "source": [
    "principals_df.head()"
   ]
  },
  {
   "cell_type": "code",
   "execution_count": 4,
   "metadata": {},
   "outputs": [
    {
     "data": {
      "text/plain": [
       "actor                  9428011\n",
       "actress                7087536\n",
       "self                   6992466\n",
       "writer                 5443248\n",
       "director               4739306\n",
       "producer               2533985\n",
       "cinematographer        1472541\n",
       "composer               1461940\n",
       "editor                 1375324\n",
       "production_designer     302528\n",
       "archive_footage         245691\n",
       "archive_sound             2605\n",
       "Name: category, dtype: int64"
      ]
     },
     "execution_count": 4,
     "metadata": {},
     "output_type": "execute_result"
    }
   ],
   "source": [
    "principals_df.category.value_counts()"
   ]
  },
  {
   "cell_type": "code",
   "execution_count": 5,
   "metadata": {},
   "outputs": [
    {
     "data": {
      "text/html": [
       "<div>\n",
       "<style scoped>\n",
       "    .dataframe tbody tr th:only-of-type {\n",
       "        vertical-align: middle;\n",
       "    }\n",
       "\n",
       "    .dataframe tbody tr th {\n",
       "        vertical-align: top;\n",
       "    }\n",
       "\n",
       "    .dataframe thead th {\n",
       "        text-align: right;\n",
       "    }\n",
       "</style>\n",
       "<table border=\"1\" class=\"dataframe\">\n",
       "  <thead>\n",
       "    <tr style=\"text-align: right;\">\n",
       "      <th></th>\n",
       "      <th>tconst</th>\n",
       "      <th>ordering</th>\n",
       "      <th>nconst</th>\n",
       "      <th>category</th>\n",
       "      <th>job</th>\n",
       "      <th>characters</th>\n",
       "    </tr>\n",
       "  </thead>\n",
       "  <tbody>\n",
       "    <tr>\n",
       "      <th>1025389</th>\n",
       "      <td>tt0120338</td>\n",
       "      <td>10</td>\n",
       "      <td>nm0365239</td>\n",
       "      <td>editor</td>\n",
       "      <td>\\N</td>\n",
       "      <td>\\N</td>\n",
       "    </tr>\n",
       "    <tr>\n",
       "      <th>1025390</th>\n",
       "      <td>tt0120338</td>\n",
       "      <td>1</td>\n",
       "      <td>nm0000138</td>\n",
       "      <td>actor</td>\n",
       "      <td>\\N</td>\n",
       "      <td>[\"Jack Dawson\"]</td>\n",
       "    </tr>\n",
       "    <tr>\n",
       "      <th>1025391</th>\n",
       "      <td>tt0120338</td>\n",
       "      <td>2</td>\n",
       "      <td>nm0000701</td>\n",
       "      <td>actress</td>\n",
       "      <td>\\N</td>\n",
       "      <td>[\"Rose Dewitt Bukater\"]</td>\n",
       "    </tr>\n",
       "    <tr>\n",
       "      <th>1025392</th>\n",
       "      <td>tt0120338</td>\n",
       "      <td>3</td>\n",
       "      <td>nm0000708</td>\n",
       "      <td>actor</td>\n",
       "      <td>\\N</td>\n",
       "      <td>[\"Cal Hockley\"]</td>\n",
       "    </tr>\n",
       "    <tr>\n",
       "      <th>1025393</th>\n",
       "      <td>tt0120338</td>\n",
       "      <td>4</td>\n",
       "      <td>nm0000870</td>\n",
       "      <td>actress</td>\n",
       "      <td>\\N</td>\n",
       "      <td>[\"Molly Brown\"]</td>\n",
       "    </tr>\n",
       "    <tr>\n",
       "      <th>1025394</th>\n",
       "      <td>tt0120338</td>\n",
       "      <td>5</td>\n",
       "      <td>nm0000116</td>\n",
       "      <td>director</td>\n",
       "      <td>\\N</td>\n",
       "      <td>\\N</td>\n",
       "    </tr>\n",
       "    <tr>\n",
       "      <th>1025395</th>\n",
       "      <td>tt0120338</td>\n",
       "      <td>6</td>\n",
       "      <td>nm0484457</td>\n",
       "      <td>producer</td>\n",
       "      <td>producer</td>\n",
       "      <td>\\N</td>\n",
       "    </tr>\n",
       "    <tr>\n",
       "      <th>1025396</th>\n",
       "      <td>tt0120338</td>\n",
       "      <td>7</td>\n",
       "      <td>nm0000035</td>\n",
       "      <td>composer</td>\n",
       "      <td>\\N</td>\n",
       "      <td>\\N</td>\n",
       "    </tr>\n",
       "    <tr>\n",
       "      <th>1025397</th>\n",
       "      <td>tt0120338</td>\n",
       "      <td>8</td>\n",
       "      <td>nm0005665</td>\n",
       "      <td>cinematographer</td>\n",
       "      <td>director of photography</td>\n",
       "      <td>\\N</td>\n",
       "    </tr>\n",
       "    <tr>\n",
       "      <th>1025398</th>\n",
       "      <td>tt0120338</td>\n",
       "      <td>9</td>\n",
       "      <td>nm0119322</td>\n",
       "      <td>editor</td>\n",
       "      <td>\\N</td>\n",
       "      <td>\\N</td>\n",
       "    </tr>\n",
       "  </tbody>\n",
       "</table>\n",
       "</div>"
      ],
      "text/plain": [
       "            tconst  ordering     nconst         category  \\\n",
       "1025389  tt0120338        10  nm0365239           editor   \n",
       "1025390  tt0120338         1  nm0000138            actor   \n",
       "1025391  tt0120338         2  nm0000701          actress   \n",
       "1025392  tt0120338         3  nm0000708            actor   \n",
       "1025393  tt0120338         4  nm0000870          actress   \n",
       "1025394  tt0120338         5  nm0000116         director   \n",
       "1025395  tt0120338         6  nm0484457         producer   \n",
       "1025396  tt0120338         7  nm0000035         composer   \n",
       "1025397  tt0120338         8  nm0005665  cinematographer   \n",
       "1025398  tt0120338         9  nm0119322           editor   \n",
       "\n",
       "                             job               characters  \n",
       "1025389                       \\N                       \\N  \n",
       "1025390                       \\N          [\"Jack Dawson\"]  \n",
       "1025391                       \\N  [\"Rose Dewitt Bukater\"]  \n",
       "1025392                       \\N          [\"Cal Hockley\"]  \n",
       "1025393                       \\N          [\"Molly Brown\"]  \n",
       "1025394                       \\N                       \\N  \n",
       "1025395                 producer                       \\N  \n",
       "1025396                       \\N                       \\N  \n",
       "1025397  director of photography                       \\N  \n",
       "1025398                       \\N                       \\N  "
      ]
     },
     "execution_count": 5,
     "metadata": {},
     "output_type": "execute_result"
    }
   ],
   "source": [
    "principals_df[principals_df.tconst == 'tt0120338']"
   ]
  },
  {
   "cell_type": "markdown",
   "metadata": {},
   "source": [
    "## Distribución de cantidad de peliculas por nconst"
   ]
  },
  {
   "cell_type": "code",
   "execution_count": 6,
   "metadata": {},
   "outputs": [
    {
     "data": {
      "text/html": [
       "<div>\n",
       "<style scoped>\n",
       "    .dataframe tbody tr th:only-of-type {\n",
       "        vertical-align: middle;\n",
       "    }\n",
       "\n",
       "    .dataframe tbody tr th {\n",
       "        vertical-align: top;\n",
       "    }\n",
       "\n",
       "    .dataframe thead th {\n",
       "        text-align: right;\n",
       "    }\n",
       "</style>\n",
       "<table border=\"1\" class=\"dataframe\">\n",
       "  <thead>\n",
       "    <tr style=\"text-align: right;\">\n",
       "      <th></th>\n",
       "      <th>tconst</th>\n",
       "      <th>titleType</th>\n",
       "      <th>primaryTitle</th>\n",
       "      <th>originalTitle</th>\n",
       "      <th>isAdult</th>\n",
       "      <th>startYear</th>\n",
       "      <th>endYear</th>\n",
       "      <th>runtimeMinutes</th>\n",
       "      <th>genres</th>\n",
       "    </tr>\n",
       "  </thead>\n",
       "  <tbody>\n",
       "    <tr>\n",
       "      <th>8</th>\n",
       "      <td>tt0000009</td>\n",
       "      <td>movie</td>\n",
       "      <td>Miss Jerry</td>\n",
       "      <td>Miss Jerry</td>\n",
       "      <td>0</td>\n",
       "      <td>1894.0</td>\n",
       "      <td>\\N</td>\n",
       "      <td>45.0</td>\n",
       "      <td>[Romance]</td>\n",
       "    </tr>\n",
       "    <tr>\n",
       "      <th>144</th>\n",
       "      <td>tt0000147</td>\n",
       "      <td>movie</td>\n",
       "      <td>The Corbett-Fitzsimmons Fight</td>\n",
       "      <td>The Corbett-Fitzsimmons Fight</td>\n",
       "      <td>0</td>\n",
       "      <td>1897.0</td>\n",
       "      <td>\\N</td>\n",
       "      <td>20.0</td>\n",
       "      <td>[Documentary, News, Sport]</td>\n",
       "    </tr>\n",
       "    <tr>\n",
       "      <th>498</th>\n",
       "      <td>tt0000502</td>\n",
       "      <td>movie</td>\n",
       "      <td>Bohemios</td>\n",
       "      <td>Bohemios</td>\n",
       "      <td>0</td>\n",
       "      <td>1905.0</td>\n",
       "      <td>\\N</td>\n",
       "      <td>100.0</td>\n",
       "      <td>[no-genre]</td>\n",
       "    </tr>\n",
       "    <tr>\n",
       "      <th>570</th>\n",
       "      <td>tt0000574</td>\n",
       "      <td>movie</td>\n",
       "      <td>The Story of the Kelly Gang</td>\n",
       "      <td>The Story of the Kelly Gang</td>\n",
       "      <td>0</td>\n",
       "      <td>1906.0</td>\n",
       "      <td>\\N</td>\n",
       "      <td>70.0</td>\n",
       "      <td>[Biography, Crime, Drama]</td>\n",
       "    </tr>\n",
       "    <tr>\n",
       "      <th>672</th>\n",
       "      <td>tt0000679</td>\n",
       "      <td>movie</td>\n",
       "      <td>The Fairylogue and Radio-Plays</td>\n",
       "      <td>The Fairylogue and Radio-Plays</td>\n",
       "      <td>0</td>\n",
       "      <td>1908.0</td>\n",
       "      <td>\\N</td>\n",
       "      <td>120.0</td>\n",
       "      <td>[Adventure, Fantasy]</td>\n",
       "    </tr>\n",
       "  </tbody>\n",
       "</table>\n",
       "</div>"
      ],
      "text/plain": [
       "        tconst titleType                    primaryTitle  \\\n",
       "8    tt0000009     movie                      Miss Jerry   \n",
       "144  tt0000147     movie   The Corbett-Fitzsimmons Fight   \n",
       "498  tt0000502     movie                        Bohemios   \n",
       "570  tt0000574     movie     The Story of the Kelly Gang   \n",
       "672  tt0000679     movie  The Fairylogue and Radio-Plays   \n",
       "\n",
       "                      originalTitle  isAdult  startYear endYear  \\\n",
       "8                        Miss Jerry        0     1894.0      \\N   \n",
       "144   The Corbett-Fitzsimmons Fight        0     1897.0      \\N   \n",
       "498                        Bohemios        0     1905.0      \\N   \n",
       "570     The Story of the Kelly Gang        0     1906.0      \\N   \n",
       "672  The Fairylogue and Radio-Plays        0     1908.0      \\N   \n",
       "\n",
       "     runtimeMinutes                      genres  \n",
       "8              45.0                   [Romance]  \n",
       "144            20.0  [Documentary, News, Sport]  \n",
       "498           100.0                  [no-genre]  \n",
       "570            70.0   [Biography, Crime, Drama]  \n",
       "672           120.0        [Adventure, Fantasy]  "
      ]
     },
     "execution_count": 6,
     "metadata": {},
     "output_type": "execute_result"
    }
   ],
   "source": [
    "basics_df.head()"
   ]
  },
  {
   "cell_type": "code",
   "execution_count": 7,
   "metadata": {},
   "outputs": [],
   "source": [
    "# Nos vamos a quedar solo con principals de las peliculas que nos interesan\n",
    "# Posiblemente de cosas diferentes \n",
    "movie_principals_df = principals_df[principals_df.tconst.isin(set(basics_df.tconst.unique()))]"
   ]
  },
  {
   "cell_type": "code",
   "execution_count": 8,
   "metadata": {},
   "outputs": [
    {
     "data": {
      "text/plain": [
       "0.10394285472418875"
      ]
     },
     "execution_count": 8,
     "metadata": {},
     "output_type": "execute_result"
    }
   ],
   "source": [
    "len(movie_principals_df) / len(principals_df)"
   ]
  },
  {
   "cell_type": "markdown",
   "metadata": {},
   "source": [
    "### Distribucion de cantidad de peliculas por persona"
   ]
  },
  {
   "cell_type": "code",
   "execution_count": 9,
   "metadata": {},
   "outputs": [
    {
     "data": {
      "text/plain": [
       "Text(0.5, 1.0, 'Number of films per person')"
      ]
     },
     "execution_count": 9,
     "metadata": {},
     "output_type": "execute_result"
    },
    {
     "data": {
      "image/png": "[encoded data removed]",
      "text/plain": [
       "<Figure size 432x288 with 1 Axes>"
      ]
     },
     "metadata": {
      "needs_background": "light"
     },
     "output_type": "display_data"
    }
   ],
   "source": [
    "import matplotlib.pyplot as plt\n",
    "\n",
    "(\n",
    "    movie_principals_df\n",
    "        .nconst\n",
    "        .value_counts()\n",
    "        .value_counts(normalize=True)\n",
    "        .sort_index()\n",
    "        .plot(logx=True, logy=True, label='movies')\n",
    ")\n",
    "(\n",
    "    principals_df\n",
    "        .nconst\n",
    "        .value_counts()\n",
    "        .value_counts(normalize=True)\n",
    "        .sort_index()\n",
    "        .plot(logx=True, logy=True, label='general')\n",
    ")\n",
    "\n",
    "plt.legend(loc='best')\n",
    "plt.title('Number of films per person')"
   ]
  },
  {
   "cell_type": "markdown",
   "metadata": {},
   "source": [
    "### Relación con ratings\n",
    "\n",
    "Experimento: vamos a ver ejemplos claros"
   ]
  },
  {
   "cell_type": "code",
   "execution_count": 10,
   "metadata": {},
   "outputs": [],
   "source": [
    "movie_principals_df = movie_principals_df.merge(ratings_df, on='tconst')"
   ]
  },
  {
   "cell_type": "code",
   "execution_count": 11,
   "metadata": {},
   "outputs": [
    {
     "data": {
      "text/html": [
       "<div>\n",
       "<style scoped>\n",
       "    .dataframe tbody tr th:only-of-type {\n",
       "        vertical-align: middle;\n",
       "    }\n",
       "\n",
       "    .dataframe tbody tr th {\n",
       "        vertical-align: top;\n",
       "    }\n",
       "\n",
       "    .dataframe thead th {\n",
       "        text-align: right;\n",
       "    }\n",
       "</style>\n",
       "<table border=\"1\" class=\"dataframe\">\n",
       "  <thead>\n",
       "    <tr style=\"text-align: right;\">\n",
       "      <th></th>\n",
       "      <th>tconst</th>\n",
       "      <th>ordering</th>\n",
       "      <th>nconst</th>\n",
       "      <th>category</th>\n",
       "      <th>job</th>\n",
       "      <th>characters</th>\n",
       "      <th>averageRating</th>\n",
       "      <th>numVotes</th>\n",
       "    </tr>\n",
       "  </thead>\n",
       "  <tbody>\n",
       "    <tr>\n",
       "      <th>0</th>\n",
       "      <td>tt0000009</td>\n",
       "      <td>1</td>\n",
       "      <td>nm0063086</td>\n",
       "      <td>actress</td>\n",
       "      <td>\\N</td>\n",
       "      <td>[\"Miss Geraldine Holbrook (Miss Jerry)\"]</td>\n",
       "      <td>5.9</td>\n",
       "      <td>154</td>\n",
       "    </tr>\n",
       "    <tr>\n",
       "      <th>1</th>\n",
       "      <td>tt0000009</td>\n",
       "      <td>2</td>\n",
       "      <td>nm0183823</td>\n",
       "      <td>actor</td>\n",
       "      <td>\\N</td>\n",
       "      <td>[\"Mr. Hamilton\"]</td>\n",
       "      <td>5.9</td>\n",
       "      <td>154</td>\n",
       "    </tr>\n",
       "    <tr>\n",
       "      <th>2</th>\n",
       "      <td>tt0000009</td>\n",
       "      <td>3</td>\n",
       "      <td>nm1309758</td>\n",
       "      <td>actor</td>\n",
       "      <td>\\N</td>\n",
       "      <td>[\"Chauncey Depew - the Director of the New Yor...</td>\n",
       "      <td>5.9</td>\n",
       "      <td>154</td>\n",
       "    </tr>\n",
       "    <tr>\n",
       "      <th>3</th>\n",
       "      <td>tt0000009</td>\n",
       "      <td>4</td>\n",
       "      <td>nm0085156</td>\n",
       "      <td>director</td>\n",
       "      <td>\\N</td>\n",
       "      <td>\\N</td>\n",
       "      <td>5.9</td>\n",
       "      <td>154</td>\n",
       "    </tr>\n",
       "    <tr>\n",
       "      <th>4</th>\n",
       "      <td>tt0000147</td>\n",
       "      <td>1</td>\n",
       "      <td>nm0179163</td>\n",
       "      <td>self</td>\n",
       "      <td>\\N</td>\n",
       "      <td>[\"Self\"]</td>\n",
       "      <td>5.2</td>\n",
       "      <td>356</td>\n",
       "    </tr>\n",
       "  </tbody>\n",
       "</table>\n",
       "</div>"
      ],
      "text/plain": [
       "      tconst  ordering     nconst  category job  \\\n",
       "0  tt0000009         1  nm0063086   actress  \\N   \n",
       "1  tt0000009         2  nm0183823     actor  \\N   \n",
       "2  tt0000009         3  nm1309758     actor  \\N   \n",
       "3  tt0000009         4  nm0085156  director  \\N   \n",
       "4  tt0000147         1  nm0179163      self  \\N   \n",
       "\n",
       "                                          characters  averageRating  numVotes  \n",
       "0           [\"Miss Geraldine Holbrook (Miss Jerry)\"]            5.9       154  \n",
       "1                                   [\"Mr. Hamilton\"]            5.9       154  \n",
       "2  [\"Chauncey Depew - the Director of the New Yor...            5.9       154  \n",
       "3                                                 \\N            5.9       154  \n",
       "4                                           [\"Self\"]            5.2       356  "
      ]
     },
     "execution_count": 11,
     "metadata": {},
     "output_type": "execute_result"
    }
   ],
   "source": [
    "movie_principals_df.head()"
   ]
  },
  {
   "cell_type": "code",
   "execution_count": 12,
   "metadata": {},
   "outputs": [],
   "source": [
    "person_metadata = (\n",
    "    movie_principals_df[movie_principals_df.numVotes > 1000]\n",
    "        .groupby('nconst')\n",
    "        .agg(\n",
    "            n_films=('tconst', 'count'), \n",
    "            avg_rating=('averageRating', 'mean'),\n",
    "            max_rating=('averageRating', 'max'),\n",
    "            min_rating=('averageRating', 'min'),\n",
    "    )\n",
    ")"
   ]
  },
  {
   "cell_type": "code",
   "execution_count": 13,
   "metadata": {},
   "outputs": [],
   "source": [
    "cohort = (person_metadata.n_films > 10) & (person_metadata.n_films < 30)"
   ]
  },
  {
   "cell_type": "code",
   "execution_count": 14,
   "metadata": {},
   "outputs": [
    {
     "data": {
      "text/plain": [
       "<matplotlib.legend.Legend at 0x1bba52b80>"
      ]
     },
     "execution_count": 14,
     "metadata": {},
     "output_type": "execute_result"
    },
    {
     "data": {
      "image/png": "[encoded data removed]",
      "text/plain": [
       "<Figure size 432x288 with 1 Axes>"
      ]
     },
     "metadata": {
      "needs_background": "light"
     },
     "output_type": "display_data"
    }
   ],
   "source": [
    "person_metadata[cohort].avg_rating.hist(bins=30, alpha=0.5, label='avg_rating')\n",
    "person_metadata[cohort].max_rating.hist(bins=30, alpha=0.5, label='max_rating')\n",
    "person_metadata[cohort].min_rating.hist(bins=30, alpha=0.5, label='min_rating')\n",
    "\n",
    "plt.legend(loc='best')"
   ]
  },
  {
   "cell_type": "markdown",
   "metadata": {},
   "source": [
    "# Parece haber señal, veamos ejemplos puntuales"
   ]
  },
  {
   "cell_type": "code",
   "execution_count": 15,
   "metadata": {},
   "outputs": [],
   "source": [
    "person_metadata['link'] = (\n",
    "    person_metadata.index.to_series().apply(lambda nconst: f'<a href=\"https://www.imdb.com/name/{nconst}\">link</a>')\n",
    ")"
   ]
  },
  {
   "cell_type": "code",
   "execution_count": 16,
   "metadata": {},
   "outputs": [
    {
     "data": {
      "text/html": [
       "<table border=\"1\" class=\"dataframe\">\n",
       "  <thead>\n",
       "    <tr style=\"text-align: right;\">\n",
       "      <th></th>\n",
       "      <th>n_films</th>\n",
       "      <th>avg_rating</th>\n",
       "      <th>max_rating</th>\n",
       "      <th>min_rating</th>\n",
       "      <th>link</th>\n",
       "    </tr>\n",
       "    <tr>\n",
       "      <th>nconst</th>\n",
       "      <th></th>\n",
       "      <th></th>\n",
       "      <th></th>\n",
       "      <th></th>\n",
       "      <th></th>\n",
       "    </tr>\n",
       "  </thead>\n",
       "  <tbody>\n",
       "    <tr>\n",
       "      <th>nm0531431</th>\n",
       "      <td>12</td>\n",
       "      <td>7.733333</td>\n",
       "      <td>8.3</td>\n",
       "      <td>7.1</td>\n",
       "      <td><a href=\"https://www.imdb.com/name/nm0531431\">link</a></td>\n",
       "    </tr>\n",
       "    <tr>\n",
       "      <th>nm0604335</th>\n",
       "      <td>11</td>\n",
       "      <td>7.045455</td>\n",
       "      <td>7.4</td>\n",
       "      <td>6.7</td>\n",
       "      <td><a href=\"https://www.imdb.com/name/nm0604335\">link</a></td>\n",
       "    </tr>\n",
       "    <tr>\n",
       "      <th>nm0741013</th>\n",
       "      <td>11</td>\n",
       "      <td>7.363636</td>\n",
       "      <td>8.2</td>\n",
       "      <td>6.6</td>\n",
       "      <td><a href=\"https://www.imdb.com/name/nm0741013\">link</a></td>\n",
       "    </tr>\n",
       "    <tr>\n",
       "      <th>nm0040916</th>\n",
       "      <td>15</td>\n",
       "      <td>7.873333</td>\n",
       "      <td>8.3</td>\n",
       "      <td>7.4</td>\n",
       "      <td><a href=\"https://www.imdb.com/name/nm0040916\">link</a></td>\n",
       "    </tr>\n",
       "    <tr>\n",
       "      <th>nm1190372</th>\n",
       "      <td>14</td>\n",
       "      <td>7.700000</td>\n",
       "      <td>8.5</td>\n",
       "      <td>7.1</td>\n",
       "      <td><a href=\"https://www.imdb.com/name/nm1190372\">link</a></td>\n",
       "    </tr>\n",
       "    <tr>\n",
       "      <th>nm0001425</th>\n",
       "      <td>12</td>\n",
       "      <td>7.625000</td>\n",
       "      <td>8.2</td>\n",
       "      <td>6.7</td>\n",
       "      <td><a href=\"https://www.imdb.com/name/nm0001425\">link</a></td>\n",
       "    </tr>\n",
       "    <tr>\n",
       "      <th>nm0085038</th>\n",
       "      <td>11</td>\n",
       "      <td>7.754545</td>\n",
       "      <td>8.2</td>\n",
       "      <td>7.0</td>\n",
       "      <td><a href=\"https://www.imdb.com/name/nm0085038\">link</a></td>\n",
       "    </tr>\n",
       "    <tr>\n",
       "      <th>nm0792670</th>\n",
       "      <td>11</td>\n",
       "      <td>7.236364</td>\n",
       "      <td>7.9</td>\n",
       "      <td>6.6</td>\n",
       "      <td><a href=\"https://www.imdb.com/name/nm0792670\">link</a></td>\n",
       "    </tr>\n",
       "    <tr>\n",
       "      <th>nm4043111</th>\n",
       "      <td>20</td>\n",
       "      <td>7.805000</td>\n",
       "      <td>8.6</td>\n",
       "      <td>7.1</td>\n",
       "      <td><a href=\"https://www.imdb.com/name/nm4043111\">link</a></td>\n",
       "    </tr>\n",
       "    <tr>\n",
       "      <th>nm0003593</th>\n",
       "      <td>19</td>\n",
       "      <td>7.321053</td>\n",
       "      <td>7.9</td>\n",
       "      <td>6.8</td>\n",
       "      <td><a href=\"https://www.imdb.com/name/nm0003593\">link</a></td>\n",
       "    </tr>\n",
       "  </tbody>\n",
       "</table>"
      ],
      "text/plain": [
       "<IPython.core.display.HTML object>"
      ]
     },
     "execution_count": 16,
     "metadata": {},
     "output_type": "execute_result"
    }
   ],
   "source": [
    "from IPython.display import HTML\n",
    "\n",
    "df = person_metadata[cohort].sort_values('min_rating', ascending=False)[:100].sample(10)\n",
    "HTML(\n",
    "    person_metadata[cohort]\n",
    "        .sort_values('min_rating', ascending=False)[:100]\n",
    "        .sample(10)\n",
    "        .to_html(escape=False)\n",
    ")"
   ]
  },
  {
   "cell_type": "markdown",
   "metadata": {},
   "source": [
    "#### Hay mucha gente de principios del siglo 20. Vamos a filtrar por peliculas mas actuales"
   ]
  },
  {
   "cell_type": "code",
   "execution_count": 17,
   "metadata": {},
   "outputs": [],
   "source": [
    "movie_principals_df = movie_principals_df.merge(basics_df, on='tconst')"
   ]
  },
  {
   "cell_type": "code",
   "execution_count": 18,
   "metadata": {},
   "outputs": [],
   "source": [
    "person_metadata = (\n",
    "    movie_principals_df[(movie_principals_df.numVotes > 1000) & (movie_principals_df.startYear > 1970)]\n",
    "        .groupby('nconst')\n",
    "        .agg(\n",
    "            n_films=('tconst', 'count'), \n",
    "            avg_rating=('averageRating', 'mean'),\n",
    "            max_rating=('averageRating', 'max'),\n",
    "            min_rating=('averageRating', 'min'),\n",
    "    )\n",
    ")"
   ]
  },
  {
   "cell_type": "code",
   "execution_count": 19,
   "metadata": {},
   "outputs": [],
   "source": [
    "cohort = (person_metadata.n_films > 10) & (person_metadata.n_films < 30)"
   ]
  },
  {
   "cell_type": "code",
   "execution_count": 20,
   "metadata": {},
   "outputs": [
    {
     "data": {
      "text/plain": [
       "<matplotlib.legend.Legend at 0x149d5abb0>"
      ]
     },
     "execution_count": 20,
     "metadata": {},
     "output_type": "execute_result"
    },
    {
     "data": {
      "image/png": "[encoded data removed]",
      "text/plain": [
       "<Figure size 432x288 with 1 Axes>"
      ]
     },
     "metadata": {
      "needs_background": "light"
     },
     "output_type": "display_data"
    }
   ],
   "source": [
    "person_metadata[cohort].avg_rating.hist(bins=30, alpha=0.5, label='avg_rating')\n",
    "person_metadata[cohort].max_rating.hist(bins=30, alpha=0.5, label='max_rating')\n",
    "person_metadata[cohort].min_rating.hist(bins=30, alpha=0.5, label='min_rating')\n",
    "\n",
    "plt.legend(loc='best')"
   ]
  },
  {
   "cell_type": "code",
   "execution_count": 21,
   "metadata": {},
   "outputs": [],
   "source": [
    "person_metadata['link'] = (\n",
    "    person_metadata.index.to_series().apply(lambda nconst: f'<a href=\"https://www.imdb.com/name/{nconst}\">link</a>')\n",
    ")"
   ]
  },
  {
   "cell_type": "code",
   "execution_count": 22,
   "metadata": {},
   "outputs": [
    {
     "data": {
      "text/html": [
       "<table border=\"1\" class=\"dataframe\">\n",
       "  <thead>\n",
       "    <tr style=\"text-align: right;\">\n",
       "      <th></th>\n",
       "      <th>n_films</th>\n",
       "      <th>avg_rating</th>\n",
       "      <th>max_rating</th>\n",
       "      <th>min_rating</th>\n",
       "      <th>link</th>\n",
       "    </tr>\n",
       "    <tr>\n",
       "      <th>nconst</th>\n",
       "      <th></th>\n",
       "      <th></th>\n",
       "      <th></th>\n",
       "      <th></th>\n",
       "      <th></th>\n",
       "    </tr>\n",
       "  </thead>\n",
       "  <tbody>\n",
       "    <tr>\n",
       "      <th>nm0062362</th>\n",
       "      <td>17</td>\n",
       "      <td>7.111765</td>\n",
       "      <td>8.1</td>\n",
       "      <td>6.3</td>\n",
       "      <td><a href=\"https://www.imdb.com/name/nm0062362\">link</a></td>\n",
       "    </tr>\n",
       "    <tr>\n",
       "      <th>nm0857621</th>\n",
       "      <td>18</td>\n",
       "      <td>7.427778</td>\n",
       "      <td>8.0</td>\n",
       "      <td>6.7</td>\n",
       "      <td><a href=\"https://www.imdb.com/name/nm0857621\">link</a></td>\n",
       "    </tr>\n",
       "    <tr>\n",
       "      <th>nm0311508</th>\n",
       "      <td>19</td>\n",
       "      <td>7.221053</td>\n",
       "      <td>8.1</td>\n",
       "      <td>6.6</td>\n",
       "      <td><a href=\"https://www.imdb.com/name/nm0311508\">link</a></td>\n",
       "    </tr>\n",
       "    <tr>\n",
       "      <th>nm0501921</th>\n",
       "      <td>11</td>\n",
       "      <td>7.981818</td>\n",
       "      <td>8.6</td>\n",
       "      <td>7.1</td>\n",
       "      <td><a href=\"https://www.imdb.com/name/nm0501921\">link</a></td>\n",
       "    </tr>\n",
       "    <tr>\n",
       "      <th>nm0598971</th>\n",
       "      <td>11</td>\n",
       "      <td>7.372727</td>\n",
       "      <td>8.0</td>\n",
       "      <td>6.6</td>\n",
       "      <td><a href=\"https://www.imdb.com/name/nm0598971\">link</a></td>\n",
       "    </tr>\n",
       "    <tr>\n",
       "      <th>nm0160883</th>\n",
       "      <td>14</td>\n",
       "      <td>7.314286</td>\n",
       "      <td>7.9</td>\n",
       "      <td>6.3</td>\n",
       "      <td><a href=\"https://www.imdb.com/name/nm0160883\">link</a></td>\n",
       "    </tr>\n",
       "    <tr>\n",
       "      <th>nm3763301</th>\n",
       "      <td>12</td>\n",
       "      <td>7.050000</td>\n",
       "      <td>7.4</td>\n",
       "      <td>6.6</td>\n",
       "      <td><a href=\"https://www.imdb.com/name/nm3763301\">link</a></td>\n",
       "    </tr>\n",
       "    <tr>\n",
       "      <th>nm0316795</th>\n",
       "      <td>21</td>\n",
       "      <td>7.390476</td>\n",
       "      <td>8.0</td>\n",
       "      <td>6.4</td>\n",
       "      <td><a href=\"https://www.imdb.com/name/nm0316795\">link</a></td>\n",
       "    </tr>\n",
       "    <tr>\n",
       "      <th>nm2953454</th>\n",
       "      <td>11</td>\n",
       "      <td>7.909091</td>\n",
       "      <td>8.6</td>\n",
       "      <td>6.9</td>\n",
       "      <td><a href=\"https://www.imdb.com/name/nm2953454\">link</a></td>\n",
       "    </tr>\n",
       "    <tr>\n",
       "      <th>nm0858128</th>\n",
       "      <td>13</td>\n",
       "      <td>8.300000</td>\n",
       "      <td>9.0</td>\n",
       "      <td>7.5</td>\n",
       "      <td><a href=\"https://www.imdb.com/name/nm0858128\">link</a></td>\n",
       "    </tr>\n",
       "  </tbody>\n",
       "</table>"
      ],
      "text/plain": [
       "<IPython.core.display.HTML object>"
      ]
     },
     "execution_count": 22,
     "metadata": {},
     "output_type": "execute_result"
    }
   ],
   "source": [
    "df = person_metadata[cohort].sort_values('min_rating', ascending=False)[:100].sample(10)\n",
    "HTML(\n",
    "    person_metadata[cohort]\n",
    "        .sort_values('min_rating', ascending=False)[:100]\n",
    "        .sample(10)\n",
    "        .to_html(escape=False)\n",
    ")"
   ]
  },
  {
   "cell_type": "code",
   "execution_count": null,
   "metadata": {},
   "outputs": [],
   "source": []
  }
 ],
 "metadata": {
  "kernelspec": {
   "display_name": "Python 3",
   "language": "python",
   "name": "python3"
  },
  "language_info": {
   "codemirror_mode": {
    "name": "ipython",
    "version": 3
   },
   "file_extension": ".py",
   "mimetype": "text/x-python",
   "name": "python",
   "nbconvert_exporter": "python",
   "pygments_lexer": "ipython3",
   "version": "3.8.3"
  }
 },
 "nbformat": 4,
 "nbformat_minor": 4
}
