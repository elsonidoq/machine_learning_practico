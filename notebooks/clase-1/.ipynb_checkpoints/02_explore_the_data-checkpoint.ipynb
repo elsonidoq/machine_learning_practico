{
 "cells": [
  {
   "cell_type": "markdown",
   "metadata": {},
   "source": [
    "# Exploramos los datos"
   ]
  },
  {
   "cell_type": "code",
   "execution_count": 2,
   "metadata": {},
   "outputs": [
    {
     "ename": "ModuleNotFoundError",
     "evalue": "No module named 'google'",
     "output_type": "error",
     "traceback": [
      "\u001b[1;31m---------------------------------------------------------------------------\u001b[0m",
      "\u001b[1;31mModuleNotFoundError\u001b[0m                       Traceback (most recent call last)",
      "\u001b[1;32m<ipython-input-2-4c44b34637d8>\u001b[0m in \u001b[0;36m<module>\u001b[1;34m\u001b[0m\n\u001b[1;32m----> 1\u001b[1;33m \u001b[1;32mfrom\u001b[0m \u001b[0mgoogle\u001b[0m\u001b[1;33m.\u001b[0m\u001b[0mcolab\u001b[0m \u001b[1;32mimport\u001b[0m \u001b[0mdrive\u001b[0m\u001b[1;33m\u001b[0m\u001b[1;33m\u001b[0m\u001b[0m\n\u001b[0m\u001b[0;32m      2\u001b[0m \u001b[1;33m\u001b[0m\u001b[0m\n\u001b[0;32m      3\u001b[0m \u001b[0mdrive\u001b[0m\u001b[1;33m.\u001b[0m\u001b[0mmount\u001b[0m\u001b[1;33m(\u001b[0m\u001b[1;34m'/content/my drive'\u001b[0m\u001b[1;33m)\u001b[0m\u001b[1;33m\u001b[0m\u001b[1;33m\u001b[0m\u001b[0m\n",
      "\u001b[1;31mModuleNotFoundError\u001b[0m: No module named 'google'"
     ]
    }
   ],
   "source": [
    "from google.colab import drive\n",
    "\n",
    "drive.mount('/content/my drive')"
   ]
  },
  {
   "cell_type": "code",
   "execution_count": 1,
   "metadata": {},
   "outputs": [],
   "source": [
    "from pathlib import Path\n",
    "import matplotlib.pyplot as plt\n",
    "import numpy as np\n",
    "\n",
    "PATH = Path('/content/gdrive/My Drive/ml-practico/data')"
   ]
  },
  {
   "cell_type": "code",
   "execution_count": 2,
   "metadata": {},
   "outputs": [
    {
     "data": {
      "text/plain": [
       "[PosixPath('../data/aclImdb_v1.tar'),\n",
       " PosixPath('../data/title.ratings.tsv'),\n",
       " PosixPath('../data/movie_gross.csv'),\n",
       " PosixPath('../data/title.principals.tsv'),\n",
       " PosixPath('../data/title.akas.tsv'),\n",
       " PosixPath('../data/name.basics.tsv'),\n",
       " PosixPath('../data/title.basics.tsv'),\n",
       " PosixPath('../data/title.crew.tsv')]"
      ]
     },
     "execution_count": 2,
     "metadata": {},
     "output_type": "execute_result"
    }
   ],
   "source": [
    "list(PATH.glob('*'))"
   ]
  },
  {
   "cell_type": "markdown",
   "metadata": {},
   "source": [
    "# Arrancamos por title basics\n",
    "\n",
    "Ver documentacion de columnas [aca](https://www.imdb.com/interfaces/)"
   ]
  },
  {
   "cell_type": "code",
   "execution_count": 3,
   "metadata": {},
   "outputs": [
    {
     "name": "stderr",
     "output_type": "stream",
     "text": [
      "/Users/przivic/anaconda3/lib/python3.8/site-packages/IPython/core/interactiveshell.py:3071: DtypeWarning: Columns (5) have mixed types.Specify dtype option on import or set low_memory=False.\n",
      "  has_raised = await self.run_ast_nodes(code_ast.body, cell_name,\n"
     ]
    },
    {
     "data": {
      "text/plain": [
       "7156880"
      ]
     },
     "execution_count": 3,
     "metadata": {},
     "output_type": "execute_result"
    }
   ],
   "source": [
    "import pandas as pd\n",
    "\n",
    "title_basics = pd.read_csv(PATH / 'title.basics.tsv', sep='\\t')\n",
    "len(title_basics)"
   ]
  },
  {
   "cell_type": "markdown",
   "metadata": {},
   "source": [
    "Nos está diciendo que tenemos columnas con tipos mezclados (por ejemplo numero y string).\n",
    "\n",
    "Eso hace que la columa se interprete como string (se muestra como object en pandas)"
   ]
  },
  {
   "cell_type": "code",
   "execution_count": 4,
   "metadata": {},
   "outputs": [
    {
     "data": {
      "text/plain": [
       "tconst            object\n",
       "titleType         object\n",
       "primaryTitle      object\n",
       "originalTitle     object\n",
       "isAdult            int64\n",
       "startYear         object\n",
       "endYear           object\n",
       "runtimeMinutes    object\n",
       "genres            object\n",
       "dtype: object"
      ]
     },
     "execution_count": 4,
     "metadata": {},
     "output_type": "execute_result"
    }
   ],
   "source": [
    "title_basics.dtypes"
   ]
  },
  {
   "cell_type": "markdown",
   "metadata": {},
   "source": [
    "# A ver algunas rows"
   ]
  },
  {
   "cell_type": "code",
   "execution_count": 5,
   "metadata": {},
   "outputs": [
    {
     "data": {
      "text/html": [
       "<div>\n",
       "<style scoped>\n",
       "    .dataframe tbody tr th:only-of-type {\n",
       "        vertical-align: middle;\n",
       "    }\n",
       "\n",
       "    .dataframe tbody tr th {\n",
       "        vertical-align: top;\n",
       "    }\n",
       "\n",
       "    .dataframe thead th {\n",
       "        text-align: right;\n",
       "    }\n",
       "</style>\n",
       "<table border=\"1\" class=\"dataframe\">\n",
       "  <thead>\n",
       "    <tr style=\"text-align: right;\">\n",
       "      <th></th>\n",
       "      <th>tconst</th>\n",
       "      <th>titleType</th>\n",
       "      <th>primaryTitle</th>\n",
       "      <th>originalTitle</th>\n",
       "      <th>isAdult</th>\n",
       "      <th>startYear</th>\n",
       "      <th>endYear</th>\n",
       "      <th>runtimeMinutes</th>\n",
       "      <th>genres</th>\n",
       "    </tr>\n",
       "  </thead>\n",
       "  <tbody>\n",
       "    <tr>\n",
       "      <th>0</th>\n",
       "      <td>tt0000001</td>\n",
       "      <td>short</td>\n",
       "      <td>Carmencita</td>\n",
       "      <td>Carmencita</td>\n",
       "      <td>0</td>\n",
       "      <td>1894</td>\n",
       "      <td>\\N</td>\n",
       "      <td>1</td>\n",
       "      <td>Documentary,Short</td>\n",
       "    </tr>\n",
       "    <tr>\n",
       "      <th>1</th>\n",
       "      <td>tt0000002</td>\n",
       "      <td>short</td>\n",
       "      <td>Le clown et ses chiens</td>\n",
       "      <td>Le clown et ses chiens</td>\n",
       "      <td>0</td>\n",
       "      <td>1892</td>\n",
       "      <td>\\N</td>\n",
       "      <td>5</td>\n",
       "      <td>Animation,Short</td>\n",
       "    </tr>\n",
       "    <tr>\n",
       "      <th>2</th>\n",
       "      <td>tt0000003</td>\n",
       "      <td>short</td>\n",
       "      <td>Pauvre Pierrot</td>\n",
       "      <td>Pauvre Pierrot</td>\n",
       "      <td>0</td>\n",
       "      <td>1892</td>\n",
       "      <td>\\N</td>\n",
       "      <td>4</td>\n",
       "      <td>Animation,Comedy,Romance</td>\n",
       "    </tr>\n",
       "    <tr>\n",
       "      <th>3</th>\n",
       "      <td>tt0000004</td>\n",
       "      <td>short</td>\n",
       "      <td>Un bon bock</td>\n",
       "      <td>Un bon bock</td>\n",
       "      <td>0</td>\n",
       "      <td>1892</td>\n",
       "      <td>\\N</td>\n",
       "      <td>12</td>\n",
       "      <td>Animation,Short</td>\n",
       "    </tr>\n",
       "    <tr>\n",
       "      <th>4</th>\n",
       "      <td>tt0000005</td>\n",
       "      <td>short</td>\n",
       "      <td>Blacksmith Scene</td>\n",
       "      <td>Blacksmith Scene</td>\n",
       "      <td>0</td>\n",
       "      <td>1893</td>\n",
       "      <td>\\N</td>\n",
       "      <td>1</td>\n",
       "      <td>Comedy,Short</td>\n",
       "    </tr>\n",
       "  </tbody>\n",
       "</table>\n",
       "</div>"
      ],
      "text/plain": [
       "      tconst titleType            primaryTitle           originalTitle  \\\n",
       "0  tt0000001     short              Carmencita              Carmencita   \n",
       "1  tt0000002     short  Le clown et ses chiens  Le clown et ses chiens   \n",
       "2  tt0000003     short          Pauvre Pierrot          Pauvre Pierrot   \n",
       "3  tt0000004     short             Un bon bock             Un bon bock   \n",
       "4  tt0000005     short        Blacksmith Scene        Blacksmith Scene   \n",
       "\n",
       "   isAdult startYear endYear runtimeMinutes                    genres  \n",
       "0        0      1894      \\N              1         Documentary,Short  \n",
       "1        0      1892      \\N              5           Animation,Short  \n",
       "2        0      1892      \\N              4  Animation,Comedy,Romance  \n",
       "3        0      1892      \\N             12           Animation,Short  \n",
       "4        0      1893      \\N              1              Comedy,Short  "
      ]
     },
     "execution_count": 5,
     "metadata": {},
     "output_type": "execute_result"
    }
   ],
   "source": [
    "title_basics.head()"
   ]
  },
  {
   "cell_type": "markdown",
   "metadata": {},
   "source": [
    "## titleType"
   ]
  },
  {
   "cell_type": "code",
   "execution_count": 6,
   "metadata": {},
   "outputs": [
    {
     "data": {
      "text/plain": [
       "tvEpisode       5139923\n",
       "short            760240\n",
       "movie            560818\n",
       "video            278137\n",
       "tvSeries         192100\n",
       "tvMovie          123363\n",
       "tvMiniSeries      33232\n",
       "tvSpecial         29616\n",
       "videoGame         26291\n",
       "tvShort           13160\n",
       "Name: titleType, dtype: int64"
      ]
     },
     "execution_count": 6,
     "metadata": {},
     "output_type": "execute_result"
    }
   ],
   "source": [
    "title_basics.titleType.value_counts()"
   ]
  },
  {
   "cell_type": "markdown",
   "metadata": {},
   "source": [
    "**Descartamos las series** (no aplican para lo que estamos trabajando ahora)"
   ]
  },
  {
   "cell_type": "code",
   "execution_count": 7,
   "metadata": {},
   "outputs": [
    {
     "data": {
      "text/plain": [
       "991934"
      ]
     },
     "execution_count": 7,
     "metadata": {},
     "output_type": "execute_result"
    }
   ],
   "source": [
    "title_basics = title_basics[\n",
    "    # Dejamos tvSpecial, video y tvMovie por ahora, vamos a ver de que se tratan\n",
    "    ~title_basics.titleType.isin(['tvEpisode', 'tvSeries', 'tvMiniSeries', 'videoGame', 'tvShort', 'short'])\n",
    "]\n",
    "\n",
    "len(title_basics) # vemos con cuanta data nos quedamos"
   ]
  },
  {
   "cell_type": "code",
   "execution_count": 8,
   "metadata": {},
   "outputs": [
    {
     "data": {
      "text/html": [
       "<div>\n",
       "<style scoped>\n",
       "    .dataframe tbody tr th:only-of-type {\n",
       "        vertical-align: middle;\n",
       "    }\n",
       "\n",
       "    .dataframe tbody tr th {\n",
       "        vertical-align: top;\n",
       "    }\n",
       "\n",
       "    .dataframe thead th {\n",
       "        text-align: right;\n",
       "    }\n",
       "</style>\n",
       "<table border=\"1\" class=\"dataframe\">\n",
       "  <thead>\n",
       "    <tr style=\"text-align: right;\">\n",
       "      <th></th>\n",
       "      <th>tconst</th>\n",
       "      <th>titleType</th>\n",
       "      <th>primaryTitle</th>\n",
       "      <th>originalTitle</th>\n",
       "      <th>isAdult</th>\n",
       "      <th>startYear</th>\n",
       "      <th>endYear</th>\n",
       "      <th>runtimeMinutes</th>\n",
       "      <th>genres</th>\n",
       "    </tr>\n",
       "  </thead>\n",
       "  <tbody>\n",
       "    <tr>\n",
       "      <th>8</th>\n",
       "      <td>tt0000009</td>\n",
       "      <td>movie</td>\n",
       "      <td>Miss Jerry</td>\n",
       "      <td>Miss Jerry</td>\n",
       "      <td>0</td>\n",
       "      <td>1894</td>\n",
       "      <td>\\N</td>\n",
       "      <td>45</td>\n",
       "      <td>Romance</td>\n",
       "    </tr>\n",
       "    <tr>\n",
       "      <th>144</th>\n",
       "      <td>tt0000147</td>\n",
       "      <td>movie</td>\n",
       "      <td>The Corbett-Fitzsimmons Fight</td>\n",
       "      <td>The Corbett-Fitzsimmons Fight</td>\n",
       "      <td>0</td>\n",
       "      <td>1897</td>\n",
       "      <td>\\N</td>\n",
       "      <td>20</td>\n",
       "      <td>Documentary,News,Sport</td>\n",
       "    </tr>\n",
       "    <tr>\n",
       "      <th>331</th>\n",
       "      <td>tt0000335</td>\n",
       "      <td>movie</td>\n",
       "      <td>Soldiers of the Cross</td>\n",
       "      <td>Soldiers of the Cross</td>\n",
       "      <td>0</td>\n",
       "      <td>1900</td>\n",
       "      <td>\\N</td>\n",
       "      <td>\\N</td>\n",
       "      <td>Biography,Drama</td>\n",
       "    </tr>\n",
       "    <tr>\n",
       "      <th>498</th>\n",
       "      <td>tt0000502</td>\n",
       "      <td>movie</td>\n",
       "      <td>Bohemios</td>\n",
       "      <td>Bohemios</td>\n",
       "      <td>0</td>\n",
       "      <td>1905</td>\n",
       "      <td>\\N</td>\n",
       "      <td>100</td>\n",
       "      <td>\\N</td>\n",
       "    </tr>\n",
       "    <tr>\n",
       "      <th>570</th>\n",
       "      <td>tt0000574</td>\n",
       "      <td>movie</td>\n",
       "      <td>The Story of the Kelly Gang</td>\n",
       "      <td>The Story of the Kelly Gang</td>\n",
       "      <td>0</td>\n",
       "      <td>1906</td>\n",
       "      <td>\\N</td>\n",
       "      <td>70</td>\n",
       "      <td>Biography,Crime,Drama</td>\n",
       "    </tr>\n",
       "  </tbody>\n",
       "</table>\n",
       "</div>"
      ],
      "text/plain": [
       "        tconst titleType                   primaryTitle  \\\n",
       "8    tt0000009     movie                     Miss Jerry   \n",
       "144  tt0000147     movie  The Corbett-Fitzsimmons Fight   \n",
       "331  tt0000335     movie          Soldiers of the Cross   \n",
       "498  tt0000502     movie                       Bohemios   \n",
       "570  tt0000574     movie    The Story of the Kelly Gang   \n",
       "\n",
       "                     originalTitle  isAdult startYear endYear runtimeMinutes  \\\n",
       "8                       Miss Jerry        0      1894      \\N             45   \n",
       "144  The Corbett-Fitzsimmons Fight        0      1897      \\N             20   \n",
       "331          Soldiers of the Cross        0      1900      \\N             \\N   \n",
       "498                       Bohemios        0      1905      \\N            100   \n",
       "570    The Story of the Kelly Gang        0      1906      \\N             70   \n",
       "\n",
       "                     genres  \n",
       "8                   Romance  \n",
       "144  Documentary,News,Sport  \n",
       "331         Biography,Drama  \n",
       "498                      \\N  \n",
       "570   Biography,Crime,Drama  "
      ]
     },
     "execution_count": 8,
     "metadata": {},
     "output_type": "execute_result"
    }
   ],
   "source": [
    "title_basics.head()"
   ]
  },
  {
   "cell_type": "markdown",
   "metadata": {},
   "source": [
    "## runtimeMinutes"
   ]
  },
  {
   "cell_type": "code",
   "execution_count": 9,
   "metadata": {},
   "outputs": [],
   "source": [
    "# Convertimos runtimeMinutes a float. No se puede tener una columna de tipo int con NaN\n",
    "title_basics.runtimeMinutes = (\n",
    "    title_basics.runtimeMinutes.apply(lambda x: np.nan if x == r'\\N' else x).astype(float)\n",
    ")"
   ]
  },
  {
   "cell_type": "code",
   "execution_count": 10,
   "metadata": {},
   "outputs": [
    {
     "data": {
      "image/png": "[encoded data removed]",
      "text/plain": [
       "<Figure size 432x288 with 1 Axes>"
      ]
     },
     "metadata": {
      "needs_background": "light"
     },
     "output_type": "display_data"
    }
   ],
   "source": [
    "title_basics.runtimeMinutes.dropna().hist();"
   ]
  },
  {
   "cell_type": "markdown",
   "metadata": {},
   "source": [
    "Intentamos hacer un histograma, pero no se ve nada. Parece tener algunos valores muy grandes"
   ]
  },
  {
   "cell_type": "code",
   "execution_count": 11,
   "metadata": {},
   "outputs": [
    {
     "data": {
      "text/html": [
       "<div>\n",
       "<style scoped>\n",
       "    .dataframe tbody tr th:only-of-type {\n",
       "        vertical-align: middle;\n",
       "    }\n",
       "\n",
       "    .dataframe tbody tr th {\n",
       "        vertical-align: top;\n",
       "    }\n",
       "\n",
       "    .dataframe thead th {\n",
       "        text-align: right;\n",
       "    }\n",
       "</style>\n",
       "<table border=\"1\" class=\"dataframe\">\n",
       "  <thead>\n",
       "    <tr style=\"text-align: right;\">\n",
       "      <th></th>\n",
       "      <th>tconst</th>\n",
       "      <th>titleType</th>\n",
       "      <th>primaryTitle</th>\n",
       "      <th>originalTitle</th>\n",
       "      <th>isAdult</th>\n",
       "      <th>startYear</th>\n",
       "      <th>endYear</th>\n",
       "      <th>runtimeMinutes</th>\n",
       "      <th>genres</th>\n",
       "    </tr>\n",
       "  </thead>\n",
       "  <tbody>\n",
       "    <tr>\n",
       "      <th>6380342</th>\n",
       "      <td>tt8273150</td>\n",
       "      <td>movie</td>\n",
       "      <td>Logistics</td>\n",
       "      <td>Logistics</td>\n",
       "      <td>0</td>\n",
       "      <td>2012</td>\n",
       "      <td>\\N</td>\n",
       "      <td>51420.0</td>\n",
       "      <td>Documentary</td>\n",
       "    </tr>\n",
       "    <tr>\n",
       "      <th>2166581</th>\n",
       "      <td>tt12095652</td>\n",
       "      <td>video</td>\n",
       "      <td>The Longest Video on YouTube: 596.5 Hours</td>\n",
       "      <td>The Longest Video on YouTube: 596.5 Hours</td>\n",
       "      <td>0</td>\n",
       "      <td>2011</td>\n",
       "      <td>\\N</td>\n",
       "      <td>35791.0</td>\n",
       "      <td>\\N</td>\n",
       "    </tr>\n",
       "    <tr>\n",
       "      <th>2269937</th>\n",
       "      <td>tt12277054</td>\n",
       "      <td>movie</td>\n",
       "      <td>Carnets Filmés (Liste Complète)</td>\n",
       "      <td>Carnets Filmés (Liste Complète)</td>\n",
       "      <td>0</td>\n",
       "      <td>2019</td>\n",
       "      <td>\\N</td>\n",
       "      <td>28643.0</td>\n",
       "      <td>Documentary</td>\n",
       "    </tr>\n",
       "    <tr>\n",
       "      <th>3861714</th>\n",
       "      <td>tt2659636</td>\n",
       "      <td>movie</td>\n",
       "      <td>Modern Times Forever</td>\n",
       "      <td>Modern Times Forever</td>\n",
       "      <td>0</td>\n",
       "      <td>2011</td>\n",
       "      <td>\\N</td>\n",
       "      <td>14400.0</td>\n",
       "      <td>Documentary</td>\n",
       "    </tr>\n",
       "    <tr>\n",
       "      <th>1943883</th>\n",
       "      <td>tt11707418</td>\n",
       "      <td>tvMovie</td>\n",
       "      <td>Svalbard Minute by Minute</td>\n",
       "      <td>Svalbard minutt for minutt</td>\n",
       "      <td>0</td>\n",
       "      <td>2020</td>\n",
       "      <td>\\N</td>\n",
       "      <td>13319.0</td>\n",
       "      <td>Adventure,Documentary</td>\n",
       "    </tr>\n",
       "  </tbody>\n",
       "</table>\n",
       "</div>"
      ],
      "text/plain": [
       "             tconst titleType                               primaryTitle  \\\n",
       "6380342   tt8273150     movie                                  Logistics   \n",
       "2166581  tt12095652     video  The Longest Video on YouTube: 596.5 Hours   \n",
       "2269937  tt12277054     movie            Carnets Filmés (Liste Complète)   \n",
       "3861714   tt2659636     movie                       Modern Times Forever   \n",
       "1943883  tt11707418   tvMovie                  Svalbard Minute by Minute   \n",
       "\n",
       "                                     originalTitle  isAdult startYear endYear  \\\n",
       "6380342                                  Logistics        0      2012      \\N   \n",
       "2166581  The Longest Video on YouTube: 596.5 Hours        0      2011      \\N   \n",
       "2269937            Carnets Filmés (Liste Complète)        0      2019      \\N   \n",
       "3861714                       Modern Times Forever        0      2011      \\N   \n",
       "1943883                 Svalbard minutt for minutt        0      2020      \\N   \n",
       "\n",
       "         runtimeMinutes                 genres  \n",
       "6380342         51420.0            Documentary  \n",
       "2166581         35791.0                     \\N  \n",
       "2269937         28643.0            Documentary  \n",
       "3861714         14400.0            Documentary  \n",
       "1943883         13319.0  Adventure,Documentary  "
      ]
     },
     "execution_count": 11,
     "metadata": {},
     "output_type": "execute_result"
    }
   ],
   "source": [
    "title_basics.sort_values('runtimeMinutes', ascending=False).head()"
   ]
  },
  {
   "cell_type": "markdown",
   "metadata": {},
   "source": [
    "Efectivamente hay valores enormes. runtimeMinutes = 13319 quiere decir 221 horas!!!!"
   ]
  },
  {
   "cell_type": "markdown",
   "metadata": {},
   "source": [
    "**Cuantas peliculas de mas de 3 horas hay?**"
   ]
  },
  {
   "cell_type": "code",
   "execution_count": 12,
   "metadata": {},
   "outputs": [
    {
     "data": {
      "text/plain": [
       "0.009139720989501318"
      ]
     },
     "execution_count": 12,
     "metadata": {},
     "output_type": "execute_result"
    }
   ],
   "source": [
    "(title_basics.runtimeMinutes > 3 * 60).sum() / len(title_basics)"
   ]
  },
  {
   "cell_type": "code",
   "execution_count": 13,
   "metadata": {},
   "outputs": [
    {
     "data": {
      "text/html": [
       "<div>\n",
       "<style scoped>\n",
       "    .dataframe tbody tr th:only-of-type {\n",
       "        vertical-align: middle;\n",
       "    }\n",
       "\n",
       "    .dataframe tbody tr th {\n",
       "        vertical-align: top;\n",
       "    }\n",
       "\n",
       "    .dataframe thead th {\n",
       "        text-align: right;\n",
       "    }\n",
       "</style>\n",
       "<table border=\"1\" class=\"dataframe\">\n",
       "  <thead>\n",
       "    <tr style=\"text-align: right;\">\n",
       "      <th></th>\n",
       "      <th>tconst</th>\n",
       "      <th>titleType</th>\n",
       "      <th>primaryTitle</th>\n",
       "      <th>originalTitle</th>\n",
       "      <th>isAdult</th>\n",
       "      <th>startYear</th>\n",
       "      <th>endYear</th>\n",
       "      <th>runtimeMinutes</th>\n",
       "      <th>genres</th>\n",
       "    </tr>\n",
       "  </thead>\n",
       "  <tbody>\n",
       "    <tr>\n",
       "      <th>248799</th>\n",
       "      <td>tt0259422</td>\n",
       "      <td>movie</td>\n",
       "      <td>Mangala</td>\n",
       "      <td>Mangala</td>\n",
       "      <td>0</td>\n",
       "      <td>1951</td>\n",
       "      <td>\\N</td>\n",
       "      <td>182.0</td>\n",
       "      <td>Drama</td>\n",
       "    </tr>\n",
       "    <tr>\n",
       "      <th>1229898</th>\n",
       "      <td>tt1045823</td>\n",
       "      <td>tvMovie</td>\n",
       "      <td>Camp MTV</td>\n",
       "      <td>Camp MTV</td>\n",
       "      <td>0</td>\n",
       "      <td>1989</td>\n",
       "      <td>\\N</td>\n",
       "      <td>360.0</td>\n",
       "      <td>Comedy</td>\n",
       "    </tr>\n",
       "    <tr>\n",
       "      <th>6368899</th>\n",
       "      <td>tt8248986</td>\n",
       "      <td>video</td>\n",
       "      <td>World Of BangBros: BangBros Exotics 1</td>\n",
       "      <td>World Of BangBros: BangBros Exotics 1</td>\n",
       "      <td>1</td>\n",
       "      <td>2018</td>\n",
       "      <td>\\N</td>\n",
       "      <td>212.0</td>\n",
       "      <td>Adult</td>\n",
       "    </tr>\n",
       "    <tr>\n",
       "      <th>3712781</th>\n",
       "      <td>tt2354169</td>\n",
       "      <td>tvMovie</td>\n",
       "      <td>Le nozze di Figaro</td>\n",
       "      <td>Le nozze di Figaro</td>\n",
       "      <td>0</td>\n",
       "      <td>1996</td>\n",
       "      <td>\\N</td>\n",
       "      <td>187.0</td>\n",
       "      <td>Music</td>\n",
       "    </tr>\n",
       "    <tr>\n",
       "      <th>3969055</th>\n",
       "      <td>tt2913840</td>\n",
       "      <td>video</td>\n",
       "      <td>Lez-Mania</td>\n",
       "      <td>Lez-Mania</td>\n",
       "      <td>1</td>\n",
       "      <td>2008</td>\n",
       "      <td>\\N</td>\n",
       "      <td>271.0</td>\n",
       "      <td>Adult</td>\n",
       "    </tr>\n",
       "    <tr>\n",
       "      <th>4073289</th>\n",
       "      <td>tt3163900</td>\n",
       "      <td>video</td>\n",
       "      <td>Interracial Gangbang</td>\n",
       "      <td>Interracial Gangbang</td>\n",
       "      <td>1</td>\n",
       "      <td>2012</td>\n",
       "      <td>\\N</td>\n",
       "      <td>224.0</td>\n",
       "      <td>Adult</td>\n",
       "    </tr>\n",
       "    <tr>\n",
       "      <th>4867703</th>\n",
       "      <td>tt4962920</td>\n",
       "      <td>video</td>\n",
       "      <td>August Ames and Friends</td>\n",
       "      <td>August Ames and Friends</td>\n",
       "      <td>1</td>\n",
       "      <td>2014</td>\n",
       "      <td>\\N</td>\n",
       "      <td>349.0</td>\n",
       "      <td>Adult</td>\n",
       "    </tr>\n",
       "    <tr>\n",
       "      <th>6677216</th>\n",
       "      <td>tt8906050</td>\n",
       "      <td>video</td>\n",
       "      <td>Squirtathon</td>\n",
       "      <td>Squirtathon</td>\n",
       "      <td>1</td>\n",
       "      <td>2010</td>\n",
       "      <td>\\N</td>\n",
       "      <td>244.0</td>\n",
       "      <td>Adult</td>\n",
       "    </tr>\n",
       "    <tr>\n",
       "      <th>1154071</th>\n",
       "      <td>tt10324862</td>\n",
       "      <td>video</td>\n",
       "      <td>DocP-132</td>\n",
       "      <td>DocP-132</td>\n",
       "      <td>1</td>\n",
       "      <td>2019</td>\n",
       "      <td>\\N</td>\n",
       "      <td>226.0</td>\n",
       "      <td>Adult</td>\n",
       "    </tr>\n",
       "    <tr>\n",
       "      <th>271592</th>\n",
       "      <td>tt0283246</td>\n",
       "      <td>tvMovie</td>\n",
       "      <td>Anatomy of Disgust</td>\n",
       "      <td>Anatomy of Disgust</td>\n",
       "      <td>0</td>\n",
       "      <td>2000</td>\n",
       "      <td>\\N</td>\n",
       "      <td>195.0</td>\n",
       "      <td>Documentary,History</td>\n",
       "    </tr>\n",
       "    <tr>\n",
       "      <th>2227124</th>\n",
       "      <td>tt1220196</td>\n",
       "      <td>tvMovie</td>\n",
       "      <td>The 100 Greatest Sex Symbols</td>\n",
       "      <td>The 100 Greatest Sex Symbols</td>\n",
       "      <td>0</td>\n",
       "      <td>2007</td>\n",
       "      <td>\\N</td>\n",
       "      <td>240.0</td>\n",
       "      <td>Documentary</td>\n",
       "    </tr>\n",
       "    <tr>\n",
       "      <th>875222</th>\n",
       "      <td>tt0902956</td>\n",
       "      <td>video</td>\n",
       "      <td>Big Country the Final Fling</td>\n",
       "      <td>Big Country the Final Fling</td>\n",
       "      <td>0</td>\n",
       "      <td>2002</td>\n",
       "      <td>\\N</td>\n",
       "      <td>200.0</td>\n",
       "      <td>Music</td>\n",
       "    </tr>\n",
       "    <tr>\n",
       "      <th>431638</th>\n",
       "      <td>tt0448977</td>\n",
       "      <td>tvSpecial</td>\n",
       "      <td>100 Greatest Cartoons</td>\n",
       "      <td>100 Greatest Cartoons</td>\n",
       "      <td>0</td>\n",
       "      <td>2005</td>\n",
       "      <td>\\N</td>\n",
       "      <td>245.0</td>\n",
       "      <td>Animation,Documentary,Family</td>\n",
       "    </tr>\n",
       "    <tr>\n",
       "      <th>1668563</th>\n",
       "      <td>tt11224210</td>\n",
       "      <td>video</td>\n",
       "      <td>Lesbian Sex 20</td>\n",
       "      <td>Lesbian Sex 20</td>\n",
       "      <td>1</td>\n",
       "      <td>2019</td>\n",
       "      <td>\\N</td>\n",
       "      <td>185.0</td>\n",
       "      <td>Adult</td>\n",
       "    </tr>\n",
       "    <tr>\n",
       "      <th>5778672</th>\n",
       "      <td>tt6986818</td>\n",
       "      <td>video</td>\n",
       "      <td>Busty Bikini Babes 2</td>\n",
       "      <td>Busty Bikini Babes 2</td>\n",
       "      <td>1</td>\n",
       "      <td>2012</td>\n",
       "      <td>\\N</td>\n",
       "      <td>238.0</td>\n",
       "      <td>Adult</td>\n",
       "    </tr>\n",
       "    <tr>\n",
       "      <th>4034723</th>\n",
       "      <td>tt3072554</td>\n",
       "      <td>video</td>\n",
       "      <td>Private Transsexual</td>\n",
       "      <td>Private Transsexual</td>\n",
       "      <td>1</td>\n",
       "      <td>2010</td>\n",
       "      <td>\\N</td>\n",
       "      <td>192.0</td>\n",
       "      <td>Adult</td>\n",
       "    </tr>\n",
       "    <tr>\n",
       "      <th>371153</th>\n",
       "      <td>tt0386891</td>\n",
       "      <td>tvSpecial</td>\n",
       "      <td>Ylen hyvä</td>\n",
       "      <td>Ylen hyvä</td>\n",
       "      <td>0</td>\n",
       "      <td>2003</td>\n",
       "      <td>\\N</td>\n",
       "      <td>220.0</td>\n",
       "      <td>Music</td>\n",
       "    </tr>\n",
       "    <tr>\n",
       "      <th>5463371</th>\n",
       "      <td>tt6296322</td>\n",
       "      <td>video</td>\n",
       "      <td>Nyuhafuaidoru 4-jikan besuto</td>\n",
       "      <td>Nyuhafuaidoru 4-jikan besuto</td>\n",
       "      <td>1</td>\n",
       "      <td>2009</td>\n",
       "      <td>\\N</td>\n",
       "      <td>240.0</td>\n",
       "      <td>Adult</td>\n",
       "    </tr>\n",
       "    <tr>\n",
       "      <th>2973661</th>\n",
       "      <td>tt1566621</td>\n",
       "      <td>video</td>\n",
       "      <td>Sem Limites</td>\n",
       "      <td>Sem Limites</td>\n",
       "      <td>1</td>\n",
       "      <td>2008</td>\n",
       "      <td>\\N</td>\n",
       "      <td>181.0</td>\n",
       "      <td>Adult</td>\n",
       "    </tr>\n",
       "    <tr>\n",
       "      <th>187762</th>\n",
       "      <td>tt0194917</td>\n",
       "      <td>tvMovie</td>\n",
       "      <td>Gioco perverso</td>\n",
       "      <td>Gioco perverso</td>\n",
       "      <td>0</td>\n",
       "      <td>1993</td>\n",
       "      <td>\\N</td>\n",
       "      <td>200.0</td>\n",
       "      <td>Drama</td>\n",
       "    </tr>\n",
       "  </tbody>\n",
       "</table>\n",
       "</div>"
      ],
      "text/plain": [
       "             tconst  titleType                           primaryTitle  \\\n",
       "248799    tt0259422      movie                                Mangala   \n",
       "1229898   tt1045823    tvMovie                               Camp MTV   \n",
       "6368899   tt8248986      video  World Of BangBros: BangBros Exotics 1   \n",
       "3712781   tt2354169    tvMovie                     Le nozze di Figaro   \n",
       "3969055   tt2913840      video                              Lez-Mania   \n",
       "4073289   tt3163900      video                   Interracial Gangbang   \n",
       "4867703   tt4962920      video                August Ames and Friends   \n",
       "6677216   tt8906050      video                            Squirtathon   \n",
       "1154071  tt10324862      video                               DocP-132   \n",
       "271592    tt0283246    tvMovie                     Anatomy of Disgust   \n",
       "2227124   tt1220196    tvMovie           The 100 Greatest Sex Symbols   \n",
       "875222    tt0902956      video            Big Country the Final Fling   \n",
       "431638    tt0448977  tvSpecial                  100 Greatest Cartoons   \n",
       "1668563  tt11224210      video                         Lesbian Sex 20   \n",
       "5778672   tt6986818      video                   Busty Bikini Babes 2   \n",
       "4034723   tt3072554      video                    Private Transsexual   \n",
       "371153    tt0386891  tvSpecial                              Ylen hyvä   \n",
       "5463371   tt6296322      video           Nyuhafuaidoru 4-jikan besuto   \n",
       "2973661   tt1566621      video                            Sem Limites   \n",
       "187762    tt0194917    tvMovie                         Gioco perverso   \n",
       "\n",
       "                                 originalTitle  isAdult startYear endYear  \\\n",
       "248799                                 Mangala        0      1951      \\N   \n",
       "1229898                               Camp MTV        0      1989      \\N   \n",
       "6368899  World Of BangBros: BangBros Exotics 1        1      2018      \\N   \n",
       "3712781                     Le nozze di Figaro        0      1996      \\N   \n",
       "3969055                              Lez-Mania        1      2008      \\N   \n",
       "4073289                   Interracial Gangbang        1      2012      \\N   \n",
       "4867703                August Ames and Friends        1      2014      \\N   \n",
       "6677216                            Squirtathon        1      2010      \\N   \n",
       "1154071                               DocP-132        1      2019      \\N   \n",
       "271592                      Anatomy of Disgust        0      2000      \\N   \n",
       "2227124           The 100 Greatest Sex Symbols        0      2007      \\N   \n",
       "875222             Big Country the Final Fling        0      2002      \\N   \n",
       "431638                   100 Greatest Cartoons        0      2005      \\N   \n",
       "1668563                         Lesbian Sex 20        1      2019      \\N   \n",
       "5778672                   Busty Bikini Babes 2        1      2012      \\N   \n",
       "4034723                    Private Transsexual        1      2010      \\N   \n",
       "371153                               Ylen hyvä        0      2003      \\N   \n",
       "5463371           Nyuhafuaidoru 4-jikan besuto        1      2009      \\N   \n",
       "2973661                            Sem Limites        1      2008      \\N   \n",
       "187762                          Gioco perverso        0      1993      \\N   \n",
       "\n",
       "         runtimeMinutes                        genres  \n",
       "248799            182.0                         Drama  \n",
       "1229898           360.0                        Comedy  \n",
       "6368899           212.0                         Adult  \n",
       "3712781           187.0                         Music  \n",
       "3969055           271.0                         Adult  \n",
       "4073289           224.0                         Adult  \n",
       "4867703           349.0                         Adult  \n",
       "6677216           244.0                         Adult  \n",
       "1154071           226.0                         Adult  \n",
       "271592            195.0           Documentary,History  \n",
       "2227124           240.0                   Documentary  \n",
       "875222            200.0                         Music  \n",
       "431638            245.0  Animation,Documentary,Family  \n",
       "1668563           185.0                         Adult  \n",
       "5778672           238.0                         Adult  \n",
       "4034723           192.0                         Adult  \n",
       "371153            220.0                         Music  \n",
       "5463371           240.0                         Adult  \n",
       "2973661           181.0                         Adult  \n",
       "187762            200.0                         Drama  "
      ]
     },
     "execution_count": 13,
     "metadata": {},
     "output_type": "execute_result"
    }
   ],
   "source": [
    "# Un 0.9%, a ver algunas...\n",
    "\n",
    "title_basics[title_basics.runtimeMinutes > 3 * 60].sample(20)"
   ]
  },
  {
   "cell_type": "markdown",
   "metadata": {},
   "source": [
    "**Parece haber muchos video**"
   ]
  },
  {
   "cell_type": "code",
   "execution_count": 14,
   "metadata": {},
   "outputs": [
    {
     "data": {
      "text/plain": [
       "video        5122\n",
       "movie        1999\n",
       "tvMovie      1151\n",
       "tvSpecial     794\n",
       "Name: titleType, dtype: int64"
      ]
     },
     "execution_count": 14,
     "metadata": {},
     "output_type": "execute_result"
    }
   ],
   "source": [
    "title_basics[title_basics.runtimeMinutes > 3 * 60].titleType.value_counts()"
   ]
  },
  {
   "cell_type": "markdown",
   "metadata": {},
   "source": [
    "**Pareciera que hay muchos videos, tvMovie y tvSpecial**\n",
    "\n",
    "Por otro lado, alguna de estas estará en la base de datos de grossing? Ya que estamos, tambien podemos juntarla con la de ratings"
   ]
  },
  {
   "cell_type": "markdown",
   "metadata": {},
   "source": [
    "### Merges para ver una foto mas completa"
   ]
  },
  {
   "cell_type": "code",
   "execution_count": 15,
   "metadata": {},
   "outputs": [],
   "source": [
    "movie_gross = pd.read_csv(PATH / 'movie_gross.csv')"
   ]
  },
  {
   "cell_type": "code",
   "execution_count": 16,
   "metadata": {},
   "outputs": [
    {
     "data": {
      "text/html": [
       "<div>\n",
       "<style scoped>\n",
       "    .dataframe tbody tr th:only-of-type {\n",
       "        vertical-align: middle;\n",
       "    }\n",
       "\n",
       "    .dataframe tbody tr th {\n",
       "        vertical-align: top;\n",
       "    }\n",
       "\n",
       "    .dataframe thead th {\n",
       "        text-align: right;\n",
       "    }\n",
       "</style>\n",
       "<table border=\"1\" class=\"dataframe\">\n",
       "  <thead>\n",
       "    <tr style=\"text-align: right;\">\n",
       "      <th></th>\n",
       "      <th>color</th>\n",
       "      <th>director_name</th>\n",
       "      <th>num_critic_for_reviews</th>\n",
       "      <th>duration</th>\n",
       "      <th>director_facebook_likes</th>\n",
       "      <th>actor_3_facebook_likes</th>\n",
       "      <th>actor_2_name</th>\n",
       "      <th>actor_1_facebook_likes</th>\n",
       "      <th>gross</th>\n",
       "      <th>genres</th>\n",
       "      <th>...</th>\n",
       "      <th>num_user_for_reviews</th>\n",
       "      <th>language</th>\n",
       "      <th>country</th>\n",
       "      <th>content_rating</th>\n",
       "      <th>budget</th>\n",
       "      <th>title_year</th>\n",
       "      <th>actor_2_facebook_likes</th>\n",
       "      <th>imdb_score</th>\n",
       "      <th>aspect_ratio</th>\n",
       "      <th>movie_facebook_likes</th>\n",
       "    </tr>\n",
       "  </thead>\n",
       "  <tbody>\n",
       "    <tr>\n",
       "      <th>0</th>\n",
       "      <td>Color</td>\n",
       "      <td>James Cameron</td>\n",
       "      <td>723.0</td>\n",
       "      <td>178.0</td>\n",
       "      <td>0.0</td>\n",
       "      <td>855.0</td>\n",
       "      <td>Joel David Moore</td>\n",
       "      <td>1000.0</td>\n",
       "      <td>760505847.0</td>\n",
       "      <td>Action|Adventure|Fantasy|Sci-Fi</td>\n",
       "      <td>...</td>\n",
       "      <td>3054.0</td>\n",
       "      <td>English</td>\n",
       "      <td>USA</td>\n",
       "      <td>PG-13</td>\n",
       "      <td>237000000.0</td>\n",
       "      <td>2009.0</td>\n",
       "      <td>936.0</td>\n",
       "      <td>7.9</td>\n",
       "      <td>1.78</td>\n",
       "      <td>33000</td>\n",
       "    </tr>\n",
       "    <tr>\n",
       "      <th>1</th>\n",
       "      <td>Color</td>\n",
       "      <td>Gore Verbinski</td>\n",
       "      <td>302.0</td>\n",
       "      <td>169.0</td>\n",
       "      <td>563.0</td>\n",
       "      <td>1000.0</td>\n",
       "      <td>Orlando Bloom</td>\n",
       "      <td>40000.0</td>\n",
       "      <td>309404152.0</td>\n",
       "      <td>Action|Adventure|Fantasy</td>\n",
       "      <td>...</td>\n",
       "      <td>1238.0</td>\n",
       "      <td>English</td>\n",
       "      <td>USA</td>\n",
       "      <td>PG-13</td>\n",
       "      <td>300000000.0</td>\n",
       "      <td>2007.0</td>\n",
       "      <td>5000.0</td>\n",
       "      <td>7.1</td>\n",
       "      <td>2.35</td>\n",
       "      <td>0</td>\n",
       "    </tr>\n",
       "    <tr>\n",
       "      <th>2</th>\n",
       "      <td>Color</td>\n",
       "      <td>Sam Mendes</td>\n",
       "      <td>602.0</td>\n",
       "      <td>148.0</td>\n",
       "      <td>0.0</td>\n",
       "      <td>161.0</td>\n",
       "      <td>Rory Kinnear</td>\n",
       "      <td>11000.0</td>\n",
       "      <td>200074175.0</td>\n",
       "      <td>Action|Adventure|Thriller</td>\n",
       "      <td>...</td>\n",
       "      <td>994.0</td>\n",
       "      <td>English</td>\n",
       "      <td>UK</td>\n",
       "      <td>PG-13</td>\n",
       "      <td>245000000.0</td>\n",
       "      <td>2015.0</td>\n",
       "      <td>393.0</td>\n",
       "      <td>6.8</td>\n",
       "      <td>2.35</td>\n",
       "      <td>85000</td>\n",
       "    </tr>\n",
       "    <tr>\n",
       "      <th>3</th>\n",
       "      <td>Color</td>\n",
       "      <td>Christopher Nolan</td>\n",
       "      <td>813.0</td>\n",
       "      <td>164.0</td>\n",
       "      <td>22000.0</td>\n",
       "      <td>23000.0</td>\n",
       "      <td>Christian Bale</td>\n",
       "      <td>27000.0</td>\n",
       "      <td>448130642.0</td>\n",
       "      <td>Action|Thriller</td>\n",
       "      <td>...</td>\n",
       "      <td>2701.0</td>\n",
       "      <td>English</td>\n",
       "      <td>USA</td>\n",
       "      <td>PG-13</td>\n",
       "      <td>250000000.0</td>\n",
       "      <td>2012.0</td>\n",
       "      <td>23000.0</td>\n",
       "      <td>8.5</td>\n",
       "      <td>2.35</td>\n",
       "      <td>164000</td>\n",
       "    </tr>\n",
       "    <tr>\n",
       "      <th>4</th>\n",
       "      <td>NaN</td>\n",
       "      <td>Doug Walker</td>\n",
       "      <td>NaN</td>\n",
       "      <td>NaN</td>\n",
       "      <td>131.0</td>\n",
       "      <td>NaN</td>\n",
       "      <td>Rob Walker</td>\n",
       "      <td>131.0</td>\n",
       "      <td>NaN</td>\n",
       "      <td>Documentary</td>\n",
       "      <td>...</td>\n",
       "      <td>NaN</td>\n",
       "      <td>NaN</td>\n",
       "      <td>NaN</td>\n",
       "      <td>NaN</td>\n",
       "      <td>NaN</td>\n",
       "      <td>NaN</td>\n",
       "      <td>12.0</td>\n",
       "      <td>7.1</td>\n",
       "      <td>NaN</td>\n",
       "      <td>0</td>\n",
       "    </tr>\n",
       "  </tbody>\n",
       "</table>\n",
       "<p>5 rows × 28 columns</p>\n",
       "</div>"
      ],
      "text/plain": [
       "   color      director_name  num_critic_for_reviews  duration  \\\n",
       "0  Color      James Cameron                   723.0     178.0   \n",
       "1  Color     Gore Verbinski                   302.0     169.0   \n",
       "2  Color         Sam Mendes                   602.0     148.0   \n",
       "3  Color  Christopher Nolan                   813.0     164.0   \n",
       "4    NaN        Doug Walker                     NaN       NaN   \n",
       "\n",
       "   director_facebook_likes  actor_3_facebook_likes      actor_2_name  \\\n",
       "0                      0.0                   855.0  Joel David Moore   \n",
       "1                    563.0                  1000.0     Orlando Bloom   \n",
       "2                      0.0                   161.0      Rory Kinnear   \n",
       "3                  22000.0                 23000.0    Christian Bale   \n",
       "4                    131.0                     NaN        Rob Walker   \n",
       "\n",
       "   actor_1_facebook_likes        gross                           genres  ...  \\\n",
       "0                  1000.0  760505847.0  Action|Adventure|Fantasy|Sci-Fi  ...   \n",
       "1                 40000.0  309404152.0         Action|Adventure|Fantasy  ...   \n",
       "2                 11000.0  200074175.0        Action|Adventure|Thriller  ...   \n",
       "3                 27000.0  448130642.0                  Action|Thriller  ...   \n",
       "4                   131.0          NaN                      Documentary  ...   \n",
       "\n",
       "  num_user_for_reviews language  country  content_rating       budget  \\\n",
       "0               3054.0  English      USA           PG-13  237000000.0   \n",
       "1               1238.0  English      USA           PG-13  300000000.0   \n",
       "2                994.0  English       UK           PG-13  245000000.0   \n",
       "3               2701.0  English      USA           PG-13  250000000.0   \n",
       "4                  NaN      NaN      NaN             NaN          NaN   \n",
       "\n",
       "   title_year actor_2_facebook_likes imdb_score  aspect_ratio  \\\n",
       "0      2009.0                  936.0        7.9          1.78   \n",
       "1      2007.0                 5000.0        7.1          2.35   \n",
       "2      2015.0                  393.0        6.8          2.35   \n",
       "3      2012.0                23000.0        8.5          2.35   \n",
       "4         NaN                   12.0        7.1           NaN   \n",
       "\n",
       "  movie_facebook_likes  \n",
       "0                33000  \n",
       "1                    0  \n",
       "2                85000  \n",
       "3               164000  \n",
       "4                    0  \n",
       "\n",
       "[5 rows x 28 columns]"
      ]
     },
     "execution_count": 16,
     "metadata": {},
     "output_type": "execute_result"
    }
   ],
   "source": [
    "movie_gross.head()"
   ]
  },
  {
   "cell_type": "code",
   "execution_count": 17,
   "metadata": {},
   "outputs": [
    {
     "data": {
      "text/plain": [
       "Index(['color', 'director_name', 'num_critic_for_reviews', 'duration',\n",
       "       'director_facebook_likes', 'actor_3_facebook_likes', 'actor_2_name',\n",
       "       'actor_1_facebook_likes', 'gross', 'genres', 'actor_1_name',\n",
       "       'movie_title', 'num_voted_users', 'cast_total_facebook_likes',\n",
       "       'actor_3_name', 'facenumber_in_poster', 'plot_keywords',\n",
       "       'movie_imdb_link', 'num_user_for_reviews', 'language', 'country',\n",
       "       'content_rating', 'budget', 'title_year', 'actor_2_facebook_likes',\n",
       "       'imdb_score', 'aspect_ratio', 'movie_facebook_likes'],\n",
       "      dtype='object')"
      ]
     },
     "execution_count": 17,
     "metadata": {},
     "output_type": "execute_result"
    }
   ],
   "source": [
    "movie_gross.columns"
   ]
  },
  {
   "cell_type": "code",
   "execution_count": 18,
   "metadata": {},
   "outputs": [
    {
     "data": {
      "text/plain": [
       "0    http://www.imdb.com/title/tt0499549/?ref_=fn_t...\n",
       "1    http://www.imdb.com/title/tt0449088/?ref_=fn_t...\n",
       "2    http://www.imdb.com/title/tt2379713/?ref_=fn_t...\n",
       "3    http://www.imdb.com/title/tt1345836/?ref_=fn_t...\n",
       "4    http://www.imdb.com/title/tt5289954/?ref_=fn_t...\n",
       "Name: movie_imdb_link, dtype: object"
      ]
     },
     "execution_count": 18,
     "metadata": {},
     "output_type": "execute_result"
    }
   ],
   "source": [
    "# No tenemos el id, pero tenemos el link\n",
    "movie_gross.movie_imdb_link.head()"
   ]
  },
  {
   "cell_type": "code",
   "execution_count": 19,
   "metadata": {},
   "outputs": [],
   "source": [
    "movie_gross['tconst'] = movie_gross.movie_imdb_link.apply(lambda x: x.split('/')[4])"
   ]
  },
  {
   "cell_type": "code",
   "execution_count": 20,
   "metadata": {},
   "outputs": [],
   "source": [
    "# A priori solo nos interesa el tconst y el gross\n",
    "\n",
    "movie_gross = movie_gross[['tconst', 'gross']]"
   ]
  },
  {
   "cell_type": "code",
   "execution_count": 21,
   "metadata": {},
   "outputs": [],
   "source": [
    "movies = title_basics.merge(movie_gross, on='tconst')"
   ]
  },
  {
   "cell_type": "code",
   "execution_count": 22,
   "metadata": {},
   "outputs": [
    {
     "data": {
      "text/plain": [
       "(4926, 5043, 991934)"
      ]
     },
     "execution_count": 22,
     "metadata": {},
     "output_type": "execute_result"
    }
   ],
   "source": [
    "# Checkeamos no perder datos\n",
    "len(movies), len(movie_gross), len(title_basics)"
   ]
  },
  {
   "cell_type": "code",
   "execution_count": 23,
   "metadata": {},
   "outputs": [],
   "source": [
    "# Perdemos un monton!!!!\n",
    "\n",
    "movies = title_basics.merge(movie_gross, on='tconst', how='left')"
   ]
  },
  {
   "cell_type": "code",
   "execution_count": 24,
   "metadata": {},
   "outputs": [
    {
     "data": {
      "text/plain": [
       "(992056, 5043, 991934)"
      ]
     },
     "execution_count": 24,
     "metadata": {},
     "output_type": "execute_result"
    }
   ],
   "source": [
    "len(movies), len(movie_gross), len(title_basics)"
   ]
  },
  {
   "cell_type": "code",
   "execution_count": 25,
   "metadata": {},
   "outputs": [
    {
     "data": {
      "text/plain": [
       "tt3332064    3\n",
       "tt2224026    3\n",
       "tt0360717    3\n",
       "tt0077651    3\n",
       "tt1976009    3\n",
       "tt0232500    3\n",
       "tt2638144    3\n",
       "tt0264935    2\n",
       "tt0872230    2\n",
       "tt0083767    2\n",
       "Name: tconst, dtype: int64"
      ]
     },
     "execution_count": 25,
     "metadata": {},
     "output_type": "execute_result"
    }
   ],
   "source": [
    "# Pareciera haber repetidos en movie_gross....\n",
    "\n",
    "repeated = movie_gross.tconst.value_counts().sort_values(ascending=False).head(10)\n",
    "repeated"
   ]
  },
  {
   "cell_type": "code",
   "execution_count": 26,
   "metadata": {},
   "outputs": [
    {
     "data": {
      "text/html": [
       "<div>\n",
       "<style scoped>\n",
       "    .dataframe tbody tr th:only-of-type {\n",
       "        vertical-align: middle;\n",
       "    }\n",
       "\n",
       "    .dataframe tbody tr th {\n",
       "        vertical-align: top;\n",
       "    }\n",
       "\n",
       "    .dataframe thead th {\n",
       "        text-align: right;\n",
       "    }\n",
       "</style>\n",
       "<table border=\"1\" class=\"dataframe\">\n",
       "  <thead>\n",
       "    <tr style=\"text-align: right;\">\n",
       "      <th></th>\n",
       "      <th>tconst</th>\n",
       "      <th>gross</th>\n",
       "    </tr>\n",
       "  </thead>\n",
       "  <tbody>\n",
       "    <tr>\n",
       "      <th>4821</th>\n",
       "      <td>tt0077651</td>\n",
       "      <td>47000000.0</td>\n",
       "    </tr>\n",
       "    <tr>\n",
       "      <th>2619</th>\n",
       "      <td>tt0077651</td>\n",
       "      <td>47000000.0</td>\n",
       "    </tr>\n",
       "    <tr>\n",
       "      <th>2492</th>\n",
       "      <td>tt0077651</td>\n",
       "      <td>47000000.0</td>\n",
       "    </tr>\n",
       "    <tr>\n",
       "      <th>3370</th>\n",
       "      <td>tt0083767</td>\n",
       "      <td>NaN</td>\n",
       "    </tr>\n",
       "    <tr>\n",
       "      <th>430</th>\n",
       "      <td>tt0083767</td>\n",
       "      <td>NaN</td>\n",
       "    </tr>\n",
       "    <tr>\n",
       "      <th>100</th>\n",
       "      <td>tt0232500</td>\n",
       "      <td>144512310.0</td>\n",
       "    </tr>\n",
       "    <tr>\n",
       "      <th>395</th>\n",
       "      <td>tt0232500</td>\n",
       "      <td>144512310.0</td>\n",
       "    </tr>\n",
       "    <tr>\n",
       "      <th>1332</th>\n",
       "      <td>tt0232500</td>\n",
       "      <td>144512310.0</td>\n",
       "    </tr>\n",
       "    <tr>\n",
       "      <th>3654</th>\n",
       "      <td>tt0264935</td>\n",
       "      <td>31874869.0</td>\n",
       "    </tr>\n",
       "    <tr>\n",
       "      <th>998</th>\n",
       "      <td>tt0264935</td>\n",
       "      <td>31874869.0</td>\n",
       "    </tr>\n",
       "    <tr>\n",
       "      <th>4694</th>\n",
       "      <td>tt0360717</td>\n",
       "      <td>218051260.0</td>\n",
       "    </tr>\n",
       "    <tr>\n",
       "      <th>25</th>\n",
       "      <td>tt0360717</td>\n",
       "      <td>218051260.0</td>\n",
       "    </tr>\n",
       "    <tr>\n",
       "      <th>2049</th>\n",
       "      <td>tt0360717</td>\n",
       "      <td>218051260.0</td>\n",
       "    </tr>\n",
       "    <tr>\n",
       "      <th>1962</th>\n",
       "      <td>tt0872230</td>\n",
       "      <td>14637490.0</td>\n",
       "    </tr>\n",
       "    <tr>\n",
       "      <th>3915</th>\n",
       "      <td>tt0872230</td>\n",
       "      <td>14637490.0</td>\n",
       "    </tr>\n",
       "    <tr>\n",
       "      <th>2099</th>\n",
       "      <td>tt1976009</td>\n",
       "      <td>5773519.0</td>\n",
       "    </tr>\n",
       "    <tr>\n",
       "      <th>1146</th>\n",
       "      <td>tt1976009</td>\n",
       "      <td>5773519.0</td>\n",
       "    </tr>\n",
       "    <tr>\n",
       "      <th>1305</th>\n",
       "      <td>tt1976009</td>\n",
       "      <td>5773519.0</td>\n",
       "    </tr>\n",
       "    <tr>\n",
       "      <th>4752</th>\n",
       "      <td>tt2224026</td>\n",
       "      <td>177343675.0</td>\n",
       "    </tr>\n",
       "    <tr>\n",
       "      <th>3010</th>\n",
       "      <td>tt2224026</td>\n",
       "      <td>177343675.0</td>\n",
       "    </tr>\n",
       "  </tbody>\n",
       "</table>\n",
       "</div>"
      ],
      "text/plain": [
       "         tconst        gross\n",
       "4821  tt0077651   47000000.0\n",
       "2619  tt0077651   47000000.0\n",
       "2492  tt0077651   47000000.0\n",
       "3370  tt0083767          NaN\n",
       "430   tt0083767          NaN\n",
       "100   tt0232500  144512310.0\n",
       "395   tt0232500  144512310.0\n",
       "1332  tt0232500  144512310.0\n",
       "3654  tt0264935   31874869.0\n",
       "998   tt0264935   31874869.0\n",
       "4694  tt0360717  218051260.0\n",
       "25    tt0360717  218051260.0\n",
       "2049  tt0360717  218051260.0\n",
       "1962  tt0872230   14637490.0\n",
       "3915  tt0872230   14637490.0\n",
       "2099  tt1976009    5773519.0\n",
       "1146  tt1976009    5773519.0\n",
       "1305  tt1976009    5773519.0\n",
       "4752  tt2224026  177343675.0\n",
       "3010  tt2224026  177343675.0"
      ]
     },
     "execution_count": 26,
     "metadata": {},
     "output_type": "execute_result"
    }
   ],
   "source": [
    "movie_gross[movie_gross.tconst.isin(repeated.index.tolist())].sort_values('tconst').head(20)"
   ]
  },
  {
   "cell_type": "code",
   "execution_count": 27,
   "metadata": {},
   "outputs": [
    {
     "data": {
      "text/plain": [
       "gross    1\n",
       "dtype: int64"
      ]
     },
     "execution_count": 27,
     "metadata": {},
     "output_type": "execute_result"
    }
   ],
   "source": [
    "# Pareciera que los repetidos son repetidos de verdad. Vamos a hacer un ultimo check\n",
    "\n",
    "# Vemos la cantidad de valores distintos para \"gross\", para ver si hay valores diferentes\n",
    "movie_gross.groupby('tconst').agg({'gross':'nunique'}).max()"
   ]
  },
  {
   "cell_type": "code",
   "execution_count": 28,
   "metadata": {},
   "outputs": [],
   "source": [
    "# Vamos de deduplicar gross\n",
    "\n",
    "movie_gross = movie_gross.groupby('tconst').gross.max().reset_index()"
   ]
  },
  {
   "cell_type": "code",
   "execution_count": 29,
   "metadata": {},
   "outputs": [
    {
     "data": {
      "text/plain": [
       "(991934, 991934, 4919)"
      ]
     },
     "execution_count": 29,
     "metadata": {},
     "output_type": "execute_result"
    }
   ],
   "source": [
    "movies = title_basics.merge(movie_gross, on='tconst', how='left')\n",
    "\n",
    "len(movies), len(title_basics), len(movie_gross)"
   ]
  },
  {
   "cell_type": "markdown",
   "metadata": {},
   "source": [
    "### Merge con ratings"
   ]
  },
  {
   "cell_type": "code",
   "execution_count": 30,
   "metadata": {},
   "outputs": [],
   "source": [
    "title_ratings = pd.read_csv(PATH / 'title.ratings.tsv', sep='\\t')"
   ]
  },
  {
   "cell_type": "code",
   "execution_count": 31,
   "metadata": {},
   "outputs": [
    {
     "data": {
      "text/html": [
       "<div>\n",
       "<style scoped>\n",
       "    .dataframe tbody tr th:only-of-type {\n",
       "        vertical-align: middle;\n",
       "    }\n",
       "\n",
       "    .dataframe tbody tr th {\n",
       "        vertical-align: top;\n",
       "    }\n",
       "\n",
       "    .dataframe thead th {\n",
       "        text-align: right;\n",
       "    }\n",
       "</style>\n",
       "<table border=\"1\" class=\"dataframe\">\n",
       "  <thead>\n",
       "    <tr style=\"text-align: right;\">\n",
       "      <th></th>\n",
       "      <th>tconst</th>\n",
       "      <th>titleType</th>\n",
       "      <th>primaryTitle</th>\n",
       "      <th>originalTitle</th>\n",
       "      <th>isAdult</th>\n",
       "      <th>startYear</th>\n",
       "      <th>endYear</th>\n",
       "      <th>runtimeMinutes</th>\n",
       "      <th>genres</th>\n",
       "      <th>gross</th>\n",
       "      <th>averageRating</th>\n",
       "      <th>numVotes</th>\n",
       "    </tr>\n",
       "  </thead>\n",
       "  <tbody>\n",
       "    <tr>\n",
       "      <th>0</th>\n",
       "      <td>tt0000009</td>\n",
       "      <td>movie</td>\n",
       "      <td>Miss Jerry</td>\n",
       "      <td>Miss Jerry</td>\n",
       "      <td>0</td>\n",
       "      <td>1894</td>\n",
       "      <td>\\N</td>\n",
       "      <td>45.0</td>\n",
       "      <td>Romance</td>\n",
       "      <td>NaN</td>\n",
       "      <td>5.9</td>\n",
       "      <td>154</td>\n",
       "    </tr>\n",
       "    <tr>\n",
       "      <th>1</th>\n",
       "      <td>tt0000147</td>\n",
       "      <td>movie</td>\n",
       "      <td>The Corbett-Fitzsimmons Fight</td>\n",
       "      <td>The Corbett-Fitzsimmons Fight</td>\n",
       "      <td>0</td>\n",
       "      <td>1897</td>\n",
       "      <td>\\N</td>\n",
       "      <td>20.0</td>\n",
       "      <td>Documentary,News,Sport</td>\n",
       "      <td>NaN</td>\n",
       "      <td>5.2</td>\n",
       "      <td>356</td>\n",
       "    </tr>\n",
       "    <tr>\n",
       "      <th>2</th>\n",
       "      <td>tt0000335</td>\n",
       "      <td>movie</td>\n",
       "      <td>Soldiers of the Cross</td>\n",
       "      <td>Soldiers of the Cross</td>\n",
       "      <td>0</td>\n",
       "      <td>1900</td>\n",
       "      <td>\\N</td>\n",
       "      <td>NaN</td>\n",
       "      <td>Biography,Drama</td>\n",
       "      <td>NaN</td>\n",
       "      <td>6.1</td>\n",
       "      <td>41</td>\n",
       "    </tr>\n",
       "    <tr>\n",
       "      <th>3</th>\n",
       "      <td>tt0000502</td>\n",
       "      <td>movie</td>\n",
       "      <td>Bohemios</td>\n",
       "      <td>Bohemios</td>\n",
       "      <td>0</td>\n",
       "      <td>1905</td>\n",
       "      <td>\\N</td>\n",
       "      <td>100.0</td>\n",
       "      <td>\\N</td>\n",
       "      <td>NaN</td>\n",
       "      <td>3.8</td>\n",
       "      <td>6</td>\n",
       "    </tr>\n",
       "    <tr>\n",
       "      <th>4</th>\n",
       "      <td>tt0000574</td>\n",
       "      <td>movie</td>\n",
       "      <td>The Story of the Kelly Gang</td>\n",
       "      <td>The Story of the Kelly Gang</td>\n",
       "      <td>0</td>\n",
       "      <td>1906</td>\n",
       "      <td>\\N</td>\n",
       "      <td>70.0</td>\n",
       "      <td>Biography,Crime,Drama</td>\n",
       "      <td>NaN</td>\n",
       "      <td>6.1</td>\n",
       "      <td>589</td>\n",
       "    </tr>\n",
       "  </tbody>\n",
       "</table>\n",
       "</div>"
      ],
      "text/plain": [
       "      tconst titleType                   primaryTitle  \\\n",
       "0  tt0000009     movie                     Miss Jerry   \n",
       "1  tt0000147     movie  The Corbett-Fitzsimmons Fight   \n",
       "2  tt0000335     movie          Soldiers of the Cross   \n",
       "3  tt0000502     movie                       Bohemios   \n",
       "4  tt0000574     movie    The Story of the Kelly Gang   \n",
       "\n",
       "                   originalTitle  isAdult startYear endYear  runtimeMinutes  \\\n",
       "0                     Miss Jerry        0      1894      \\N            45.0   \n",
       "1  The Corbett-Fitzsimmons Fight        0      1897      \\N            20.0   \n",
       "2          Soldiers of the Cross        0      1900      \\N             NaN   \n",
       "3                       Bohemios        0      1905      \\N           100.0   \n",
       "4    The Story of the Kelly Gang        0      1906      \\N            70.0   \n",
       "\n",
       "                   genres  gross  averageRating  numVotes  \n",
       "0                 Romance    NaN            5.9       154  \n",
       "1  Documentary,News,Sport    NaN            5.2       356  \n",
       "2         Biography,Drama    NaN            6.1        41  \n",
       "3                      \\N    NaN            3.8         6  \n",
       "4   Biography,Crime,Drama    NaN            6.1       589  "
      ]
     },
     "execution_count": 31,
     "metadata": {},
     "output_type": "execute_result"
    }
   ],
   "source": [
    "movies_wr = movies.merge(title_ratings, on='tconst')\n",
    "movies_wr.head()"
   ]
  },
  {
   "cell_type": "code",
   "execution_count": 32,
   "metadata": {},
   "outputs": [
    {
     "data": {
      "text/plain": [
       "(364335, 991934, 1071882)"
      ]
     },
     "execution_count": 32,
     "metadata": {},
     "output_type": "execute_result"
    }
   ],
   "source": [
    "# Checkeamos que no perdimos data en el join\n",
    "len(movies_wr), len(movies), len(title_ratings)"
   ]
  },
  {
   "cell_type": "code",
   "execution_count": 33,
   "metadata": {},
   "outputs": [],
   "source": [
    "# Perdimos un monton de datos!!!!!!\n",
    "# Ademas podemos ver que hay peliculas que tienen rating pero que no figuran en title_basics\n",
    "# por ahora no hacemos nada con eso...\n",
    "\n",
    "movies_wr = movies.merge(title_ratings, on='tconst', how='left')"
   ]
  },
  {
   "cell_type": "code",
   "execution_count": 34,
   "metadata": {},
   "outputs": [
    {
     "data": {
      "text/plain": [
       "(991934, 991934, 1071882)"
      ]
     },
     "execution_count": 34,
     "metadata": {},
     "output_type": "execute_result"
    }
   ],
   "source": [
    "len(movies_wr), len(movies), len(title_ratings)"
   ]
  },
  {
   "cell_type": "code",
   "execution_count": 35,
   "metadata": {},
   "outputs": [],
   "source": [
    "movies = movies_wr"
   ]
  },
  {
   "attachments": {
    "image.png": {
     "image/png": "[encoded data removed]"
    }
   },
   "cell_type": "markdown",
   "metadata": {},
   "source": [
    "## Volviendo a donde estabamos...\n",
    "![image.png](attachment:image.png)"
   ]
  },
  {
   "cell_type": "code",
   "execution_count": 36,
   "metadata": {},
   "outputs": [
    {
     "data": {
      "text/html": [
       "<div>\n",
       "<style scoped>\n",
       "    .dataframe tbody tr th:only-of-type {\n",
       "        vertical-align: middle;\n",
       "    }\n",
       "\n",
       "    .dataframe tbody tr th {\n",
       "        vertical-align: top;\n",
       "    }\n",
       "\n",
       "    .dataframe thead th {\n",
       "        text-align: right;\n",
       "    }\n",
       "</style>\n",
       "<table border=\"1\" class=\"dataframe\">\n",
       "  <thead>\n",
       "    <tr style=\"text-align: right;\">\n",
       "      <th></th>\n",
       "      <th>tconst</th>\n",
       "      <th>titleType</th>\n",
       "      <th>primaryTitle</th>\n",
       "      <th>originalTitle</th>\n",
       "      <th>isAdult</th>\n",
       "      <th>startYear</th>\n",
       "      <th>endYear</th>\n",
       "      <th>runtimeMinutes</th>\n",
       "      <th>genres</th>\n",
       "      <th>gross</th>\n",
       "      <th>averageRating</th>\n",
       "      <th>numVotes</th>\n",
       "    </tr>\n",
       "  </thead>\n",
       "  <tbody>\n",
       "    <tr>\n",
       "      <th>868725</th>\n",
       "      <td>tt7054670</td>\n",
       "      <td>video</td>\n",
       "      <td>The Hottest Girls in Porn</td>\n",
       "      <td>The Hottest Girls in Porn</td>\n",
       "      <td>1</td>\n",
       "      <td>2017</td>\n",
       "      <td>\\N</td>\n",
       "      <td>340.0</td>\n",
       "      <td>Adult</td>\n",
       "      <td>NaN</td>\n",
       "      <td>5.4</td>\n",
       "      <td>5.0</td>\n",
       "    </tr>\n",
       "    <tr>\n",
       "      <th>797036</th>\n",
       "      <td>tt5625830</td>\n",
       "      <td>video</td>\n",
       "      <td>A Gonzo Story: Whorehouse Virgin</td>\n",
       "      <td>A Gonzo Story: Whorehouse Virgin</td>\n",
       "      <td>1</td>\n",
       "      <td>2016</td>\n",
       "      <td>\\N</td>\n",
       "      <td>184.0</td>\n",
       "      <td>Adult</td>\n",
       "      <td>NaN</td>\n",
       "      <td>NaN</td>\n",
       "      <td>NaN</td>\n",
       "    </tr>\n",
       "    <tr>\n",
       "      <th>503950</th>\n",
       "      <td>tt1377817</td>\n",
       "      <td>movie</td>\n",
       "      <td>Welcome to New York</td>\n",
       "      <td>Welcome to New York</td>\n",
       "      <td>0</td>\n",
       "      <td>2005</td>\n",
       "      <td>\\N</td>\n",
       "      <td>950.0</td>\n",
       "      <td>Comedy</td>\n",
       "      <td>NaN</td>\n",
       "      <td>NaN</td>\n",
       "      <td>NaN</td>\n",
       "    </tr>\n",
       "    <tr>\n",
       "      <th>777591</th>\n",
       "      <td>tt5236714</td>\n",
       "      <td>tvMovie</td>\n",
       "      <td>Alcina, Georg Friedrich Haendel</td>\n",
       "      <td>Alcina, Georg Friedrich Haendel</td>\n",
       "      <td>0</td>\n",
       "      <td>2015</td>\n",
       "      <td>\\N</td>\n",
       "      <td>193.0</td>\n",
       "      <td>Drama,Horror,Musical</td>\n",
       "      <td>NaN</td>\n",
       "      <td>8.1</td>\n",
       "      <td>10.0</td>\n",
       "    </tr>\n",
       "    <tr>\n",
       "      <th>469253</th>\n",
       "      <td>tt12573178</td>\n",
       "      <td>video</td>\n",
       "      <td>Reumatikerförbundet fyller 70 år!</td>\n",
       "      <td>Reumatikerförbundet fyller 70 år!</td>\n",
       "      <td>0</td>\n",
       "      <td>2015</td>\n",
       "      <td>\\N</td>\n",
       "      <td>266.0</td>\n",
       "      <td>Documentary,Talk-Show</td>\n",
       "      <td>NaN</td>\n",
       "      <td>NaN</td>\n",
       "      <td>NaN</td>\n",
       "    </tr>\n",
       "    <tr>\n",
       "      <th>565702</th>\n",
       "      <td>tt1808299</td>\n",
       "      <td>tvSpecial</td>\n",
       "      <td>Melbourne Cup Day</td>\n",
       "      <td>Melbourne Cup Day</td>\n",
       "      <td>0</td>\n",
       "      <td>1988</td>\n",
       "      <td>\\N</td>\n",
       "      <td>520.0</td>\n",
       "      <td>Sport</td>\n",
       "      <td>NaN</td>\n",
       "      <td>NaN</td>\n",
       "      <td>NaN</td>\n",
       "    </tr>\n",
       "    <tr>\n",
       "      <th>520331</th>\n",
       "      <td>tt1495681</td>\n",
       "      <td>video</td>\n",
       "      <td>Baby Got Boobs</td>\n",
       "      <td>Baby Got Boobs</td>\n",
       "      <td>1</td>\n",
       "      <td>2009</td>\n",
       "      <td>\\N</td>\n",
       "      <td>208.0</td>\n",
       "      <td>Adult</td>\n",
       "      <td>NaN</td>\n",
       "      <td>6.5</td>\n",
       "      <td>6.0</td>\n",
       "    </tr>\n",
       "    <tr>\n",
       "      <th>811133</th>\n",
       "      <td>tt5903740</td>\n",
       "      <td>video</td>\n",
       "      <td>Superiority Complex</td>\n",
       "      <td>Superiority Complex</td>\n",
       "      <td>1</td>\n",
       "      <td>2016</td>\n",
       "      <td>\\N</td>\n",
       "      <td>196.0</td>\n",
       "      <td>Adult</td>\n",
       "      <td>NaN</td>\n",
       "      <td>NaN</td>\n",
       "      <td>NaN</td>\n",
       "    </tr>\n",
       "    <tr>\n",
       "      <th>616874</th>\n",
       "      <td>tt2278998</td>\n",
       "      <td>video</td>\n",
       "      <td>Endogonidic Tragedy</td>\n",
       "      <td>Tragedia Endogonidia</td>\n",
       "      <td>0</td>\n",
       "      <td>2007</td>\n",
       "      <td>\\N</td>\n",
       "      <td>341.0</td>\n",
       "      <td>Documentary</td>\n",
       "      <td>NaN</td>\n",
       "      <td>NaN</td>\n",
       "      <td>NaN</td>\n",
       "    </tr>\n",
       "    <tr>\n",
       "      <th>326294</th>\n",
       "      <td>tt0924443</td>\n",
       "      <td>video</td>\n",
       "      <td>Funbag Fantasies 5</td>\n",
       "      <td>Funbag Fantasies 5</td>\n",
       "      <td>1</td>\n",
       "      <td>2006</td>\n",
       "      <td>\\N</td>\n",
       "      <td>240.0</td>\n",
       "      <td>Adult</td>\n",
       "      <td>NaN</td>\n",
       "      <td>NaN</td>\n",
       "      <td>NaN</td>\n",
       "    </tr>\n",
       "  </tbody>\n",
       "</table>\n",
       "</div>"
      ],
      "text/plain": [
       "            tconst  titleType                       primaryTitle  \\\n",
       "868725   tt7054670      video          The Hottest Girls in Porn   \n",
       "797036   tt5625830      video   A Gonzo Story: Whorehouse Virgin   \n",
       "503950   tt1377817      movie                Welcome to New York   \n",
       "777591   tt5236714    tvMovie    Alcina, Georg Friedrich Haendel   \n",
       "469253  tt12573178      video  Reumatikerförbundet fyller 70 år!   \n",
       "565702   tt1808299  tvSpecial                  Melbourne Cup Day   \n",
       "520331   tt1495681      video                     Baby Got Boobs   \n",
       "811133   tt5903740      video                Superiority Complex   \n",
       "616874   tt2278998      video                Endogonidic Tragedy   \n",
       "326294   tt0924443      video                 Funbag Fantasies 5   \n",
       "\n",
       "                            originalTitle  isAdult startYear endYear  \\\n",
       "868725          The Hottest Girls in Porn        1      2017      \\N   \n",
       "797036   A Gonzo Story: Whorehouse Virgin        1      2016      \\N   \n",
       "503950                Welcome to New York        0      2005      \\N   \n",
       "777591    Alcina, Georg Friedrich Haendel        0      2015      \\N   \n",
       "469253  Reumatikerförbundet fyller 70 år!        0      2015      \\N   \n",
       "565702                  Melbourne Cup Day        0      1988      \\N   \n",
       "520331                     Baby Got Boobs        1      2009      \\N   \n",
       "811133                Superiority Complex        1      2016      \\N   \n",
       "616874               Tragedia Endogonidia        0      2007      \\N   \n",
       "326294                 Funbag Fantasies 5        1      2006      \\N   \n",
       "\n",
       "        runtimeMinutes                 genres  gross  averageRating  numVotes  \n",
       "868725           340.0                  Adult    NaN            5.4       5.0  \n",
       "797036           184.0                  Adult    NaN            NaN       NaN  \n",
       "503950           950.0                 Comedy    NaN            NaN       NaN  \n",
       "777591           193.0   Drama,Horror,Musical    NaN            8.1      10.0  \n",
       "469253           266.0  Documentary,Talk-Show    NaN            NaN       NaN  \n",
       "565702           520.0                  Sport    NaN            NaN       NaN  \n",
       "520331           208.0                  Adult    NaN            6.5       6.0  \n",
       "811133           196.0                  Adult    NaN            NaN       NaN  \n",
       "616874           341.0            Documentary    NaN            NaN       NaN  \n",
       "326294           240.0                  Adult    NaN            NaN       NaN  "
      ]
     },
     "execution_count": 36,
     "metadata": {},
     "output_type": "execute_result"
    }
   ],
   "source": [
    "movies[movies.runtimeMinutes > 3 * 60].sample(10)"
   ]
  },
  {
   "cell_type": "markdown",
   "metadata": {},
   "source": [
    "**Parece haber mucho de adultos**"
   ]
  },
  {
   "cell_type": "code",
   "execution_count": 37,
   "metadata": {},
   "outputs": [
    {
     "data": {
      "text/plain": [
       "(9066, 4064, 0.4482682550187514)"
      ]
     },
     "execution_count": 37,
     "metadata": {},
     "output_type": "execute_result"
    }
   ],
   "source": [
    "n_long_adult = movies[movies.runtimeMinutes > 3 * 60].genres.apply(lambda x: 'Adult' in x).sum()\n",
    "n_long = (movies.runtimeMinutes > 3 * 60).sum()\n",
    "\n",
    "n_long, n_long_adult, n_long_adult / n_long"
   ]
  },
  {
   "cell_type": "markdown",
   "metadata": {},
   "source": [
    "**Parece que no tienen data de gross**"
   ]
  },
  {
   "cell_type": "code",
   "execution_count": 38,
   "metadata": {},
   "outputs": [
    {
     "data": {
      "text/plain": [
       "0.9962497242444297"
      ]
     },
     "execution_count": 38,
     "metadata": {},
     "output_type": "execute_result"
    }
   ],
   "source": [
    "movies[movies.runtimeMinutes > 3 * 60].gross.isna().sum() / n_long"
   ]
  },
  {
   "cell_type": "code",
   "execution_count": 39,
   "metadata": {},
   "outputs": [
    {
     "data": {
      "text/plain": [
       "0.9847324372305352"
      ]
     },
     "execution_count": 39,
     "metadata": {},
     "output_type": "execute_result"
    }
   ],
   "source": [
    "# idem para 2 horas\n",
    "movies[movies.runtimeMinutes > 2 * 60].gross.isna().sum() / (movies.runtimeMinutes > 2 * 60).sum()"
   ]
  },
  {
   "cell_type": "code",
   "execution_count": 40,
   "metadata": {},
   "outputs": [],
   "source": [
    "movies = movies[movies.runtimeMinutes <= 2 * 60].copy()"
   ]
  },
  {
   "cell_type": "code",
   "execution_count": 41,
   "metadata": {},
   "outputs": [
    {
     "data": {
      "image/png": "[encoded data removed]",
      "text/plain": [
       "<Figure size 432x288 with 1 Axes>"
      ]
     },
     "metadata": {
      "needs_background": "light"
     },
     "output_type": "display_data"
    }
   ],
   "source": [
    "movies.runtimeMinutes.hist(bins=30);"
   ]
  },
  {
   "cell_type": "markdown",
   "metadata": {},
   "source": [
    "Sigue habiendo duraciones muy cortas!!! \n",
    "\n",
    "Veamos a ver si alguna otra columna nos da una pista"
   ]
  },
  {
   "cell_type": "markdown",
   "metadata": {},
   "source": [
    "## Genres"
   ]
  },
  {
   "cell_type": "code",
   "execution_count": 42,
   "metadata": {},
   "outputs": [],
   "source": [
    "from itertools import chain\n",
    "from collections import Counter\n",
    "\n",
    "def parse_genres(genres):\n",
    "    if isinstance(genres, float) or genres == r'\\N': return ['no-genre']\n",
    "    else: return genres.split(',')\n",
    "    \n",
    "\n",
    "movies['genres'] = movies.genres.apply(parse_genres)"
   ]
  },
  {
   "cell_type": "code",
   "execution_count": 43,
   "metadata": {},
   "outputs": [
    {
     "data": {
      "text/plain": [
       "Counter({'Romance': 34458,\n",
       "         'Documentary': 137983,\n",
       "         'News': 5521,\n",
       "         'Sport': 8305,\n",
       "         'no-genre': 29089,\n",
       "         'Biography': 17905,\n",
       "         'Crime': 28723,\n",
       "         'Drama': 157279,\n",
       "         'Adventure': 23924,\n",
       "         'Fantasy': 12931,\n",
       "         'Family': 20096,\n",
       "         'War': 7212,\n",
       "         'History': 14041,\n",
       "         'Western': 5266,\n",
       "         'Thriller': 25848,\n",
       "         'Comedy': 101248,\n",
       "         'Mystery': 13509,\n",
       "         'Horror': 25005,\n",
       "         'Action': 32379,\n",
       "         'Music': 70732,\n",
       "         'Sci-Fi': 9936,\n",
       "         'Animation': 13507,\n",
       "         'Musical': 8844,\n",
       "         'Film-Noir': 762,\n",
       "         'Adult': 44273,\n",
       "         'Reality-TV': 1480,\n",
       "         'Short': 98804,\n",
       "         'Talk-Show': 1736,\n",
       "         'Game-Show': 364})"
      ]
     },
     "execution_count": 43,
     "metadata": {},
     "output_type": "execute_result"
    }
   ],
   "source": [
    "Counter(chain(*movies.genres.tolist()))"
   ]
  },
  {
   "cell_type": "markdown",
   "metadata": {},
   "source": [
    "**Hay varios Short, no debería!**\n",
    "\n",
    "A ver cual es la duracion..."
   ]
  },
  {
   "cell_type": "code",
   "execution_count": 44,
   "metadata": {},
   "outputs": [
    {
     "data": {
      "image/png": "[encoded data removed]",
      "text/plain": [
       "<Figure size 432x288 with 1 Axes>"
      ]
     },
     "metadata": {
      "needs_background": "light"
     },
     "output_type": "display_data"
    }
   ],
   "source": [
    "movies[movies.genres.apply(lambda x: 'Short' in x)].runtimeMinutes.hist(bins=30);"
   ]
  },
  {
   "cell_type": "markdown",
   "metadata": {},
   "source": [
    "🚀"
   ]
  },
  {
   "cell_type": "code",
   "execution_count": 45,
   "metadata": {},
   "outputs": [],
   "source": [
    "movies = movies[movies.genres.apply(lambda x: 'Short' not in x)]"
   ]
  },
  {
   "cell_type": "code",
   "execution_count": 46,
   "metadata": {},
   "outputs": [
    {
     "data": {
      "image/png": "[encoded data removed]",
      "text/plain": [
       "<Figure size 432x288 with 1 Axes>"
      ]
     },
     "metadata": {
      "needs_background": "light"
     },
     "output_type": "display_data"
    }
   ],
   "source": [
    "movies.runtimeMinutes.hist(bins=30);"
   ]
  },
  {
   "cell_type": "code",
   "execution_count": 47,
   "metadata": {},
   "outputs": [
    {
     "data": {
      "text/plain": [
       "movie        46335\n",
       "tvMovie      30296\n",
       "video        18805\n",
       "tvSpecial     3207\n",
       "Name: titleType, dtype: int64"
      ]
     },
     "execution_count": 47,
     "metadata": {},
     "output_type": "execute_result"
    }
   ],
   "source": [
    "movies[movies.runtimeMinutes < 60].titleType.value_counts()"
   ]
  },
  {
   "cell_type": "markdown",
   "metadata": {},
   "source": [
    "Chau video, tvSpecial y tvMovie"
   ]
  },
  {
   "cell_type": "code",
   "execution_count": 48,
   "metadata": {},
   "outputs": [],
   "source": [
    "movies = movies[~movies.titleType.isin(['video', 'tvSpecial', 'tvMovie'])]"
   ]
  },
  {
   "cell_type": "code",
   "execution_count": 49,
   "metadata": {},
   "outputs": [
    {
     "data": {
      "image/png": "[encoded data removed]",
      "text/plain": [
       "<Figure size 432x288 with 1 Axes>"
      ]
     },
     "metadata": {
      "needs_background": "light"
     },
     "output_type": "display_data"
    }
   ],
   "source": [
    "movies.runtimeMinutes.hist(bins=30);"
   ]
  },
  {
   "cell_type": "markdown",
   "metadata": {},
   "source": [
    "## [Cuanto dura un largometraje??](https://www.google.com/search?q=cuanto+dura+un+largometraje&oq=cuanto+dura+un+largometraje&aqs=chrome..69i57.3779j0j7&sourceid=chrome&ie=UTF-8)"
   ]
  },
  {
   "cell_type": "code",
   "execution_count": 50,
   "metadata": {},
   "outputs": [],
   "source": [
    "movies = movies[movies.runtimeMinutes >= 60]"
   ]
  },
  {
   "cell_type": "markdown",
   "metadata": {},
   "source": [
    "Se te ocurre algun otro check para hacer??"
   ]
  }
 ],
 "metadata": {
  "kernelspec": {
   "display_name": "Python 3",
   "language": "python",
   "name": "python3"
  }
 },
 "nbformat": 4,
 "nbformat_minor": 4
}
